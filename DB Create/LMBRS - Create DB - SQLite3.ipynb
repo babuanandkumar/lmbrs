{
 "cells": [
  {
   "cell_type": "markdown",
   "id": "4261bf21",
   "metadata": {},
   "source": [
    "<center>\n",
    "     <span style = \"font-family:Arial; font-size:20pt; font-weight:bold;color:purple;\">Library Management and Book Recommender System (LMBRS) </span>\n",
    "    <br/><br/>\n",
    "    <span style = \"font-family:Arial; font-size:20pt; font-weight:bold;\">Data Processing & DB Creation</span>\n",
    "    <br/><br/><br/>\n",
    "    <span style = \"font-family:Arial; font-size:12pt; font-weight:bold;text-decoration:underline;line-height: 1.5\">Team – Group 11</span>\n",
    "    <br/>\n",
    "    <span style = \"font-family:Arial; font-size:11pt;line-height: 1.5\">Braxton Ratekin</span>\n",
    "    <br/>\n",
    "    <span style = \"font-family:Arial; font-size:11pt;line-height: 1.5\">Carmen Galgano</span>\n",
    "    <br/>\n",
    "    <span style = \"font-family:Arial; font-size:11pt;line-height: 1.5\">Anand Kumar Babu</span>\n",
    "</center>"
   ]
  },
  {
   "cell_type": "markdown",
   "id": "39361409",
   "metadata": {},
   "source": [
    "<span style = \"font-family:Arial; font-size:11pt;line-height: 1.5;\">\n",
    "Using the GoodReads dataset from Kaggle (<a href = \"https://www.kaggle.com/datasets/thedevastator/comprehensive-overview-of-52478-goodreads-best-b\">View Dataset</a>), the project attempts to provide an online Library Management and Books Recommender system (LMBRS) to manage the books maintenance, borrowing activities, and to provide personalized reading experience through recommendation based on user preferences, reading history and other relevant factors.\n",
    "The integrated library management and Books recommender system will provide not only the library management insights on the types of books most preferred by larger group of people but also provide personalized recommendation to users based on their preferences.\n",
    "Besides, there are opportunities to expand the business functions of the system beyond the scope mentioned above (Ref: Project Usefulness).\n",
    "</span>"
   ]
  },
  {
   "cell_type": "markdown",
   "id": "9aa80680",
   "metadata": {},
   "source": [
    "<hr style = \"color:darkgray;height:3px;\">"
   ]
  },
  {
   "cell_type": "markdown",
   "id": "1e7e0f14",
   "metadata": {},
   "source": [
    "<span style = \"font-family:Arial; font-size:13pt;line-height:1.5;color:blue;font-weight:bold;\">About the Notebook</span>\n",
    "<br/>\n",
    "<span style = \"font-family:Arial; font-size:11pt;line-height:1.5\">\n",
    "\n",
    "This notebooks performs the following activities in order to prepare data and to create database for the LMBRS system.\n",
    "    <ul>\n",
    "        <li>Study the <a href = \"https://www.kaggle.com/datasets/thedevastator/comprehensive-overview-of-52478-goodreads-best-b\">GoodReads dataset</a></li>\n",
    "        <li>Cleanse the dataset to eliminate non-ascii data</li>\n",
    "        <li>Identify redundant data in the dataset and attempt to normalize</li>\n",
    "        <li>Format data to the appropriate data types</li>\n",
    "        <li>Connect MySQL DBMS, create a schema called LMBRS</li>\n",
    "        <li>Read the SQL script from the file system and execute commands to create the tables required</li>\n",
    "        <li>Copy the normalized data from the GoodReads dataset to the corresponding tables</li>\n",
    "        <li>Insert initial set of data in to certain tables</li>\n",
    "        <li>Perform some meaningful sample queries on the database</li>\n",
    "    </ul>\n",
    "</span>\n",
    "<span style = \"font-family:Arial;font-size:10pt;line-height:1.5;color:red;font-style:italic;\">Note: Dataset download is perfomed outside of this notebook</span><br/><br/>\n",
    "<hr style = \"color:darkgray;height:3px;\">"
   ]
  },
  {
   "cell_type": "markdown",
   "id": "c8c13092",
   "metadata": {},
   "source": [
    "<span style = \"font-family:Arial; font-size:16pt; font-weight:bold;color:purple;\">Imports and Functions</span>"
   ]
  },
  {
   "cell_type": "markdown",
   "id": "dd4cf7b6",
   "metadata": {},
   "source": [
    "<span style = \"font-family:Arial; font-size:13pt;line-height:1.5;color:blue;font-weight:bold;\">Imports</span>\n",
    "<br/>\n",
    "<span style = \"font-family:Arial; font-size:11pt;line-height:1.5\">All libraries / packages requires for this notebook</span>"
   ]
  },
  {
   "cell_type": "code",
   "execution_count": 1,
   "id": "f8058898",
   "metadata": {
    "scrolled": true
   },
   "outputs": [],
   "source": [
    "import pandas as pd\n",
    "import sys\n",
    "from datetime import datetime\n",
    "import time\n",
    "import random\n",
    "import sqlite3\n",
    "import os\n",
    "\n",
    "\n",
    "from IPython.core.display import HTML"
   ]
  },
  {
   "cell_type": "markdown",
   "id": "4b2c71a9",
   "metadata": {},
   "source": [
    "<br/><span style = \"font-family:Arial; font-size:13pt;line-height:1.5;color:blue;font-weight:bold;\">Functions</span>\n",
    "<br/>\n",
    "<span style = \"font-family:Arial; font-size:11pt;line-height:1.5\">All utility functions that are used for various operations in the notebook</span>"
   ]
  },
  {
   "cell_type": "code",
   "execution_count": 2,
   "id": "6c3827a0",
   "metadata": {
    "scrolled": true
   },
   "outputs": [],
   "source": [
    "def get_unique_values(df, column, is_csv = True, is_array = False):\n",
    "    unique_items = {'':1}\n",
    "    i = 2\n",
    "    for ser_index in df[column].value_counts().index:\n",
    "        ser_index = strip_str(ser_index)\n",
    "        for item in split_CSV(ser_index, is_csv, is_array):\n",
    "            item = strip_char_at_ends(strip_char_at_ends(item, \"\\\"\"), \"'\").strip().title()\n",
    "            if not item in unique_items:\n",
    "                unique_items[item] = i\n",
    "                i += 1\n",
    "    return unique_items\n",
    "\n",
    "\n",
    "def split_CSV(data, is_csv = True, is_array = False):\n",
    "    data = str(data)\n",
    "    if is_array: data = arr_str_to_csv(data)\n",
    "    if is_csv: data = data.split(\",\")\n",
    "    else: data = [data]\n",
    "    return data\n",
    "    \n",
    "\n",
    "def arr_str_to_csv(data):\n",
    "    data = data.strip()\n",
    "    start, end = data.find(\"[\"), data.find(\"]\")\n",
    "    if start == 0 and end == len(data) - 1 and end > start:\n",
    "        data = data[1:end]\n",
    "    return data.strip()\n",
    "\n",
    "\n",
    "def strip_char_at_ends(data, char):\n",
    "    data = data.strip()\n",
    "    start = data.find(char)\n",
    "    if start == 0:\n",
    "        end = data.rfind(char)\n",
    "        if end == len(data) - 1:\n",
    "            data = data[1:end]\n",
    "    return data.strip()\n",
    "\n",
    "\n",
    "def strip_str(data):\n",
    "    return strip_brace(data.strip().replace(\"-\", \" \").replace(\"_\", \" \"))\n",
    "\n",
    "\n",
    "def strip_brace(data):\n",
    "    start, end = data.find(\"(\"), data.find(\")\")\n",
    "    while start != -1 and end != -1 and start < end:\n",
    "        data = data[0:start] + data[end + 1:]\n",
    "        start, end = data.find(\"(\"), data.find(\")\")\n",
    "    return data.strip()\n",
    "\n",
    "\n",
    "def create_book_id_link(book_id, data, columns, data_dict, ref_df, is_csv = True, is_array = False):\n",
    "    data = strip_str(data)\n",
    "    for item in split_CSV(data, is_csv, is_array):\n",
    "        item = strip_char_at_ends(strip_char_at_ends(item, \"\\\"\"), \"'\").strip().title()\n",
    "        if item in data_dict.keys():\n",
    "            ref_df = ref_df.append(pd.Series([book_id, data_dict[item]], index = ref_df.columns), ignore_index = True)\n",
    "        else:\n",
    "            print(\"Not Found ==> \", book_id, \":\", item, \":\", columns)\n",
    "    return ref_df\n",
    "\n",
    "\n",
    "def create_df(columns, data_dict):\n",
    "    df = pd.DataFrame(columns = columns)\n",
    "    df[columns[0]], df[columns[1]] = list(data_dict.values()), list(data_dict.keys())\n",
    "    return df\n",
    "\n",
    "\n",
    "def print_table_info(msg, df):\n",
    "    print(msg, \":\", df.shape)\n",
    "    display(df.head())\n",
    "    print(\"\\n\\n\")\n",
    "    \n",
    "    \n",
    "def rreplace(data, str_find, str_replace):\n",
    "    return (data[::-1].replace(str_find[::-1], str_replace[::-1], 1))[::-1]\n",
    "\n",
    "\n",
    "def format_date(date_str):\n",
    "    date_str = date_str.replace(\"Romantic Releases\", \"\").replace(\"Expected publication:\", \"\")\n",
    "    date_str = rreplace(rreplace(rreplace(rreplace(date_str, \"st\", \"\"), \"th\", \"\"), \"rd\", \"\"), \"nd\", \"\").strip()\n",
    "    date_str = date_str.replace(\"Augu \", \"August \")\n",
    "    #print(date_str)\n",
    "    try:\n",
    "        date_str = str(datetime.strptime(date_str, \"%m/%d/%y\").date())\n",
    "    except:\n",
    "        try:\n",
    "            date_str = str(datetime.strptime(date_str, \"%B %d %Y\").date())\n",
    "        except:\n",
    "            try:\n",
    "                date_str = str(datetime.strptime(date_str, \"%B %d %y\").date())\n",
    "            except:\n",
    "                try:\n",
    "                    date_str = str(datetime.strptime(date_str, \"%B %Y\").date())\n",
    "                except:\n",
    "                    try:\n",
    "                        date_str = str(datetime.strptime(date_str, \"%Y\").date())\n",
    "                    except:\n",
    "                        date_str = \"01/01/01\"\n",
    "    return date_str\n",
    "\n",
    "\n",
    "def format_price(price):\n",
    "    price_str = str(price)\n",
    "    indx2 = price_str.replace(\".\", \"#\", 1).find(\".\")\n",
    "    if indx2 > 0: price_str = price_str[0:indx2]\n",
    "    return float(price_str)\n",
    "\n",
    "\n",
    "def copy_df_to_table(df, columns, table_name):\n",
    "    if columns is None:\n",
    "        df.to_sql(table_name, con = engine, if_exists = 'append', index = False, chunksize = 1000)\n",
    "    else:\n",
    "        df[columns].to_sql(table_name, con = engine, if_exists = 'append', index = False, chunksize = 1000)\n",
    "    \n",
    "\n",
    "def copy_df_to_table_sqlite(df, columns, table_name):\n",
    "    if columns is None:\n",
    "        df.to_sql(name = table_name, con = mydb, if_exists = 'append', index = False, chunksize = 1000)\n",
    "    else:\n",
    "        df[columns].to_sql(name = table_name, con = mydb, if_exists = 'append', index = False, chunksize = 1000)\n",
    "\n",
    "\n",
    "def truncate_text(text, length):\n",
    "    if len(text) > length: return text[0:length]\n",
    "    else: return text\n",
    "\n",
    "\n",
    "def display_message(msg, is_code = False, header = None):\n",
    "    html = \"<br/><table width = '100%' cellspacing = 0 cellpadding = 0 style = 'border:1px solid darkgray'>\"\n",
    "    font = \"Courier\" if is_code else \"Arial\"\n",
    "    if not header is None and len(header.strip()) > 0:\n",
    "        html += \"<tr style = 'background-color:darkgreen'><th style = 'text-align:left;font-family:Arial;font-size:11pt;color:white;font-weight:bold'>\" + header.strip() + \"</th>\"\n",
    "    for item in msg:\n",
    "        item = item.strip()\n",
    "        if len(item) > 0:\n",
    "            html += \"<tr><td style = 'text-align:left;font-family:\" + font + \";font-size:11pt;background-color:#EEEEEE;border:1px solid lightgray;'>&#9758;&nbsp;&nbsp;\" + item + \"</td></tr>\"\n",
    "    html += \"</table><br/>\"\n",
    "    display(HTML(html))\n",
    "\n",
    "\n",
    "def display_SQL_messages(sql):\n",
    "    header = None\n",
    "    msg = []\n",
    "    for item in sql:\n",
    "        if item.startswith(\"#\"):\n",
    "            if len(msg) > 0: \n",
    "                display_message(msg, is_code = True, header = header)\n",
    "                header = None\n",
    "                msg = []\n",
    "            header = item.strip(\"#\")\n",
    "        else:\n",
    "            msg.append(item.strip())\n",
    "    if len(msg) > 0: display_message(msg, is_code = True, header = header)\n",
    "\n",
    "        \n",
    "def exec_query(c, title, query, display_as_df = True):\n",
    "    c.execute(query)\n",
    "    if display_as_df:\n",
    "        colnames = c.description\n",
    "        columns = []\n",
    "        display(HTML(\"<br/><b style = 'color:blue;text-decoration:underline'>\" + title + \"</b>\"))\n",
    "        for row in colnames: columns.append(row[0])\n",
    "        df = pd.DataFrame(c.fetchall(), columns=columns)\n",
    "        display(df)\n",
    "        display(HTML(\"<br/>\"))\n",
    "    else:\n",
    "        for row in rs:\n",
    "            print(row)"
   ]
  },
  {
   "cell_type": "markdown",
   "id": "43eaad06",
   "metadata": {},
   "source": [
    "<br/><hr style = \"color:darkgray;height:3px;\">"
   ]
  },
  {
   "cell_type": "code",
   "execution_count": 3,
   "id": "659f6849",
   "metadata": {},
   "outputs": [],
   "source": [
    "if os.path.isfile(\"lmbrs.db\"):\n",
    "    display_message([\"<b style = 'color:red'>The DB file already exists in the folder. Please delete this file and rerun the notebook. Exiting...</b>\"])\n",
    "    sys.exit(0)"
   ]
  },
  {
   "cell_type": "markdown",
   "id": "6ff54fd7",
   "metadata": {},
   "source": [
    "<span style = \"font-family:Arial; font-size:16pt; font-weight:bold;color:purple;\">Data Ingestion</span>\n",
    "<ul>\n",
    "        <li>Read data from the donloaded file</li>\n",
    "        <li>View dataset shape</li>\n",
    "        <li>Study the features</li>\n",
    "        <li>View data type of the features</li>\n",
    "</ul>"
   ]
  },
  {
   "cell_type": "markdown",
   "id": "0646c5d4",
   "metadata": {},
   "source": [
    "<br/>\n",
    "<span style = \"font-family:Arial; font-size:13pt;line-height:1.5;color:blue;font-weight:bold;\">About Dataset</span>\n",
    "<br/>\n",
    "<span style = \"font-family:Arial; font-size:11pt;line-height:1.5\">Read data from file and study the dataset characteristics</span>"
   ]
  },
  {
   "cell_type": "code",
   "execution_count": 4,
   "id": "e423cc37",
   "metadata": {},
   "outputs": [],
   "source": [
    "books = pd.read_csv(\"books_1.Best_Books_Ever.csv\")"
   ]
  },
  {
   "cell_type": "code",
   "execution_count": 5,
   "id": "7021ac66",
   "metadata": {},
   "outputs": [
    {
     "data": {
      "text/html": [
       "<br/><table width = '100%' cellspacing = 0 cellpadding = 0 style = 'border:1px solid darkgray'><tr style = 'background-color:darkgreen'><th style = 'text-align:left;font-family:Arial;font-size:11pt;color:white;font-weight:bold'>Observations</th><tr><td style = 'text-align:left;font-family:Arial;font-size:11pt;background-color:#EEEEEE;border:1px solid lightgray;'>&#9758;&nbsp;&nbsp;The dataset has 52478 rows and 25 columns.</td></tr><tr><td style = 'text-align:left;font-family:Arial;font-size:11pt;background-color:#EEEEEE;border:1px solid lightgray;'>&#9758;&nbsp;&nbsp;Most of the fields are object types. Looking at the data, they mostly are strings.</td></tr><tr><td style = 'text-align:left;font-family:Arial;font-size:11pt;background-color:#EEEEEE;border:1px solid lightgray;'>&#9758;&nbsp;&nbsp;The columns that may not be required for the application can be dropped.</td></tr></table><br/>"
      ],
      "text/plain": [
       "<IPython.core.display.HTML object>"
      ]
     },
     "metadata": {},
     "output_type": "display_data"
    }
   ],
   "source": [
    "display_message([\n",
    "    \"The dataset has \" + str(books.shape[0]) + \" rows and \" + str(books.shape[1]) + \" columns.\",\n",
    "    \"Most of the fields are object types. Looking at the data, they mostly are strings.\",\n",
    "    \"The columns that may not be required for the application can be dropped.\",\n",
    "], header = \"Observations\")"
   ]
  },
  {
   "cell_type": "code",
   "execution_count": 6,
   "id": "31378e3d",
   "metadata": {},
   "outputs": [],
   "source": [
    "books.drop(columns=[\"bookId\", \"characters\", \"firstPublishDate\", \"ratingsByStars\", \"setting\", \"bbeScore\", \"bbeVotes\"], inplace=True)"
   ]
  },
  {
   "cell_type": "markdown",
   "id": "5647e388",
   "metadata": {},
   "source": [
    "<br/>\n",
    "<hr style = \"color:darkgray;height:3px;\">"
   ]
  },
  {
   "cell_type": "markdown",
   "id": "0e262668",
   "metadata": {},
   "source": [
    "<br/>\n",
    "<span style = \"font-family:Arial; font-size:16pt; font-weight:bold;color:purple;\">Data Cleansing</span>\n",
    "<ul>\n",
    "        <li>Dataset has multiple columns with non-ascii characters</li>\n",
    "        <li>This application will be dealing with ascii charset</li>\n",
    "        <li>Drop all the rows where there are non-ascii data in the text columns</li>\n",
    "        <li>View data type of the features</li>\n",
    "</ul>"
   ]
  },
  {
   "cell_type": "markdown",
   "id": "c4005e8f",
   "metadata": {},
   "source": [
    "<span style = \"font-family:Arial; font-size:13pt;line-height:1.5;color:blue;font-weight:bold;\">Drop Non-ascii data</span>\n",
    "<br/>\n",
    "<span style = \"font-family:Arial; font-size:11pt;line-height:1.5\">Drop rows that contain non-ascii characters in any of their text columns</span>"
   ]
  },
  {
   "cell_type": "code",
   "execution_count": 7,
   "id": "49300eb5",
   "metadata": {
    "scrolled": false
   },
   "outputs": [
    {
     "name": "stdout",
     "output_type": "stream",
     "text": [
      "--- Completed in 217.57125210762024 seconds ---\n"
     ]
    },
    {
     "data": {
      "text/html": [
       "<br/><table width = '100%' cellspacing = 0 cellpadding = 0 style = 'border:1px solid darkgray'><tr><td style = 'text-align:left;font-family:Arial;font-size:11pt;background-color:#EEEEEE;border:1px solid lightgray;'>&#9758;&nbsp;&nbsp;Total Number of non-ascii rows dropped : 25989</td></tr><tr><td style = 'text-align:left;font-family:Arial;font-size:11pt;background-color:#EEEEEE;border:1px solid lightgray;'>&#9758;&nbsp;&nbsp;New size of the dataset after dropping non-ascii rows is 26489 rows x 18 columns.</td></tr></table><br/>"
      ],
      "text/plain": [
       "<IPython.core.display.HTML object>"
      ]
     },
     "metadata": {},
     "output_type": "display_data"
    }
   ],
   "source": [
    "start_time = time.time()\n",
    "# Drop rows with non-ascii characters in any of the columns\n",
    "rows_dropped = 0\n",
    "for row_idx, row in books.iterrows(): \n",
    "    for _, col in row.iteritems():\n",
    "        if not str(col).isascii():\n",
    "            books.drop([row_idx], inplace = True)\n",
    "            rows_dropped += 1\n",
    "            break\n",
    "\n",
    "print(\"--- Completed in %s seconds ---\" % (time.time() - start_time))\n",
    "display_message([\n",
    "                    \"Total Number of non-ascii rows dropped : \" + str(rows_dropped),\n",
    "                    \"New size of the dataset after dropping non-ascii rows is \" + str(books.shape[0]) + \" rows x \" + str(books.shape[1]) + \" columns.\"\n",
    "                ])"
   ]
  },
  {
   "cell_type": "markdown",
   "id": "d9c60cce",
   "metadata": {},
   "source": [
    "<span style = \"font-family:Arial; font-size:13pt;line-height:1.5;color:blue;font-weight:bold;\">Replace 'NA'</span>\n",
    "<br/>\n",
    "<span style = \"font-family:Arial; font-size:11pt;line-height:1.5\">Replace null values appropriately</span>"
   ]
  },
  {
   "cell_type": "code",
   "execution_count": 8,
   "id": "6b640cb9",
   "metadata": {
    "scrolled": false
   },
   "outputs": [
    {
     "data": {
      "text/html": [
       "<br/><table width = '100%' cellspacing = 0 cellpadding = 0 style = 'border:1px solid darkgray'><tr style = 'background-color:darkgreen'><th style = 'text-align:left;font-family:Arial;font-size:11pt;color:white;font-weight:bold'>Count of null values by column</th><tr><td style = 'text-align:left;font-family:Arial;font-size:11pt;background-color:#EEEEEE;border:1px solid lightgray;'>&#9758;&nbsp;&nbsp;title : 0</td></tr><tr><td style = 'text-align:left;font-family:Arial;font-size:11pt;background-color:#EEEEEE;border:1px solid lightgray;'>&#9758;&nbsp;&nbsp;series : 14829</td></tr><tr><td style = 'text-align:left;font-family:Arial;font-size:11pt;background-color:#EEEEEE;border:1px solid lightgray;'>&#9758;&nbsp;&nbsp;author : 0</td></tr><tr><td style = 'text-align:left;font-family:Arial;font-size:11pt;background-color:#EEEEEE;border:1px solid lightgray;'>&#9758;&nbsp;&nbsp;rating : 0</td></tr><tr><td style = 'text-align:left;font-family:Arial;font-size:11pt;background-color:#EEEEEE;border:1px solid lightgray;'>&#9758;&nbsp;&nbsp;description : 825</td></tr><tr><td style = 'text-align:left;font-family:Arial;font-size:11pt;background-color:#EEEEEE;border:1px solid lightgray;'>&#9758;&nbsp;&nbsp;language : 2095</td></tr><tr><td style = 'text-align:left;font-family:Arial;font-size:11pt;background-color:#EEEEEE;border:1px solid lightgray;'>&#9758;&nbsp;&nbsp;isbn : 0</td></tr><tr><td style = 'text-align:left;font-family:Arial;font-size:11pt;background-color:#EEEEEE;border:1px solid lightgray;'>&#9758;&nbsp;&nbsp;genres : 0</td></tr><tr><td style = 'text-align:left;font-family:Arial;font-size:11pt;background-color:#EEEEEE;border:1px solid lightgray;'>&#9758;&nbsp;&nbsp;bookFormat : 461</td></tr><tr><td style = 'text-align:left;font-family:Arial;font-size:11pt;background-color:#EEEEEE;border:1px solid lightgray;'>&#9758;&nbsp;&nbsp;edition : 24363</td></tr><tr><td style = 'text-align:left;font-family:Arial;font-size:11pt;background-color:#EEEEEE;border:1px solid lightgray;'>&#9758;&nbsp;&nbsp;pages : 1136</td></tr><tr><td style = 'text-align:left;font-family:Arial;font-size:11pt;background-color:#EEEEEE;border:1px solid lightgray;'>&#9758;&nbsp;&nbsp;publisher : 1512</td></tr><tr><td style = 'text-align:left;font-family:Arial;font-size:11pt;background-color:#EEEEEE;border:1px solid lightgray;'>&#9758;&nbsp;&nbsp;publishDate : 470</td></tr><tr><td style = 'text-align:left;font-family:Arial;font-size:11pt;background-color:#EEEEEE;border:1px solid lightgray;'>&#9758;&nbsp;&nbsp;awards : 0</td></tr><tr><td style = 'text-align:left;font-family:Arial;font-size:11pt;background-color:#EEEEEE;border:1px solid lightgray;'>&#9758;&nbsp;&nbsp;numRatings : 0</td></tr><tr><td style = 'text-align:left;font-family:Arial;font-size:11pt;background-color:#EEEEEE;border:1px solid lightgray;'>&#9758;&nbsp;&nbsp;likedPercent : 377</td></tr><tr><td style = 'text-align:left;font-family:Arial;font-size:11pt;background-color:#EEEEEE;border:1px solid lightgray;'>&#9758;&nbsp;&nbsp;coverImg : 424</td></tr><tr><td style = 'text-align:left;font-family:Arial;font-size:11pt;background-color:#EEEEEE;border:1px solid lightgray;'>&#9758;&nbsp;&nbsp;price : 5186</td></tr></table><br/>"
      ],
      "text/plain": [
       "<IPython.core.display.HTML object>"
      ]
     },
     "metadata": {},
     "output_type": "display_data"
    }
   ],
   "source": [
    "na_count = books.isna().sum()\n",
    "display_message([str(idx) + \" : \" + str(na_count[i]) for i, idx in enumerate(na_count.index)], header = \"Count of null values by column\")"
   ]
  },
  {
   "cell_type": "markdown",
   "id": "e2c19468",
   "metadata": {},
   "source": [
    "Since the dataset is being prepared for transactional purpose, there is no need to drop or do any additional calculation to fill null values. They can be replaced with a <i>&lt;BLANK&gt;</i> in columns containing string values and -1 in columns with numeric values. Here '-1' is used instead of zero so that the application can identify that this is column of the row had no data."
   ]
  },
  {
   "cell_type": "code",
   "execution_count": 9,
   "id": "730aa137",
   "metadata": {},
   "outputs": [],
   "source": [
    "num_cols = {'rating', 'pages', 'numRatings', 'likedPercent', 'price'}\n",
    "for col in books.columns:\n",
    "    replace = -1 if col in num_cols else ''\n",
    "    books[col].fillna(replace, inplace=True)"
   ]
  },
  {
   "cell_type": "code",
   "execution_count": 10,
   "id": "7d39b2f3",
   "metadata": {
    "scrolled": true
   },
   "outputs": [
    {
     "data": {
      "text/html": [
       "<br/><table width = '100%' cellspacing = 0 cellpadding = 0 style = 'border:1px solid darkgray'><tr style = 'background-color:darkgreen'><th style = 'text-align:left;font-family:Arial;font-size:11pt;color:white;font-weight:bold'>Observations</th><tr><td style = 'text-align:left;font-family:Arial;font-size:11pt;background-color:#EEEEEE;border:1px solid lightgray;'>&#9758;&nbsp;&nbsp;The dataset was found to have columns with non-ascii strings. These rows were dropped.</td></tr><tr><td style = 'text-align:left;font-family:Arial;font-size:11pt;background-color:#EEEEEE;border:1px solid lightgray;'>&#9758;&nbsp;&nbsp;Also, there were multiple columns with null values.</td></tr><tr><td style = 'text-align:left;font-family:Arial;font-size:11pt;background-color:#EEEEEE;border:1px solid lightgray;'>&#9758;&nbsp;&nbsp;The null values in columns with string data are replaced with <i>&lt;BLANK&gt;</i></td></tr><tr><td style = 'text-align:left;font-family:Arial;font-size:11pt;background-color:#EEEEEE;border:1px solid lightgray;'>&#9758;&nbsp;&nbsp;And the null values in columns with numeric data are replaced with -1</td></tr></table><br/>"
      ],
      "text/plain": [
       "<IPython.core.display.HTML object>"
      ]
     },
     "metadata": {},
     "output_type": "display_data"
    }
   ],
   "source": [
    "display_message([\n",
    "                    \"The dataset was found to have columns with non-ascii strings. These rows were dropped.\",\n",
    "                    \"Also, there were multiple columns with null values.\",\n",
    "                    \"The null values in columns with string data are replaced with <i>&lt;BLANK&gt;</i>\",\n",
    "                    \"And the null values in columns with numeric data are replaced with -1\"\n",
    "                ], header = \"Observations\")"
   ]
  },
  {
   "cell_type": "markdown",
   "id": "0c6b0a5a",
   "metadata": {},
   "source": [
    "<hr style = \"color:darkgray;height:3px;\">\n",
    "<br/>"
   ]
  },
  {
   "cell_type": "markdown",
   "id": "a56bec98",
   "metadata": {},
   "source": [
    "<span style = \"font-family:Arial; font-size:16pt; font-weight:bold;color:purple;\">Data Normalization</span>\n",
    "<ul>\n",
    "        <li>Normalize the redundant data in the dataset</li>\n",
    "        <li>The following features are found to contain values that are redundant. These are good candidates for normilization.\n",
    "            <ul>\n",
    "                <li><i>Author</i></li>\n",
    "                <li><i>Language</i></li>\n",
    "                <li><i>Genre</i></li>\n",
    "                <li><i>Book Format</i></li>\n",
    "                <li><i>Publisher</i></li>\n",
    "                <li><i>Award</i></li>\n",
    "            </ul>\n",
    "    </li>\n",
    "</ul>"
   ]
  },
  {
   "cell_type": "markdown",
   "id": "4524d8ce",
   "metadata": {},
   "source": [
    "<span style = \"font-family:Arial; font-size:13pt;line-height:1.5;color:blue;font-weight:bold;\">Identify Unique Values</span>\n",
    "<br/>\n",
    "<span style = \"font-family:Arial; font-size:11pt;line-height:1.5\">Parse, Sanitize and Store Unique values in each of the above-mentioned columns with redundant data</span>"
   ]
  },
  {
   "cell_type": "code",
   "execution_count": 11,
   "id": "8d53840c",
   "metadata": {},
   "outputs": [
    {
     "data": {
      "text/plain": [
       "(10000, 18)"
      ]
     },
     "execution_count": 11,
     "metadata": {},
     "output_type": "execute_result"
    }
   ],
   "source": [
    "#Added by Anand for Cloud DB. Pick only 10000 rows from the dataframe\n",
    "books = books.sample(n = 10000)\n",
    "books.shape"
   ]
  },
  {
   "cell_type": "code",
   "execution_count": 12,
   "id": "928ea20f",
   "metadata": {},
   "outputs": [],
   "source": [
    "unique_authors = get_unique_values(books, \"author\", is_csv = True, is_array = False)\n",
    "unique_languages = get_unique_values(books, \"language\", is_csv = False, is_array = False)\n",
    "unique_genres = get_unique_values(books, \"genres\", is_csv = True, is_array = True)\n",
    "unique_book_formats = get_unique_values(books, \"bookFormat\", is_csv = True, is_array = False)\n",
    "unique_publishers = get_unique_values(books, \"publisher\", is_csv = False, is_array = False)\n",
    "unique_awards = get_unique_values(books, \"awards\", is_csv = True, is_array = True)"
   ]
  },
  {
   "cell_type": "code",
   "execution_count": 13,
   "id": "595c21d2",
   "metadata": {
    "scrolled": false
   },
   "outputs": [
    {
     "data": {
      "text/html": [
       "<br/><table width = '100%' cellspacing = 0 cellpadding = 0 style = 'border:1px solid darkgray'><tr style = 'background-color:darkgreen'><th style = 'text-align:left;font-family:Arial;font-size:11pt;color:white;font-weight:bold'>Unique Values</th><tr><td style = 'text-align:left;font-family:Arial;font-size:11pt;background-color:#EEEEEE;border:1px solid lightgray;'>&#9758;&nbsp;&nbsp;Authors : 8438</td></tr><tr><td style = 'text-align:left;font-family:Arial;font-size:11pt;background-color:#EEEEEE;border:1px solid lightgray;'>&#9758;&nbsp;&nbsp;Languages : 28</td></tr><tr><td style = 'text-align:left;font-family:Arial;font-size:11pt;background-color:#EEEEEE;border:1px solid lightgray;'>&#9758;&nbsp;&nbsp;Genres : 800</td></tr><tr><td style = 'text-align:left;font-family:Arial;font-size:11pt;background-color:#EEEEEE;border:1px solid lightgray;'>&#9758;&nbsp;&nbsp;Book Formats : 45</td></tr><tr><td style = 'text-align:left;font-family:Arial;font-size:11pt;background-color:#EEEEEE;border:1px solid lightgray;'>&#9758;&nbsp;&nbsp;Publishers : 2964</td></tr><tr><td style = 'text-align:left;font-family:Arial;font-size:11pt;background-color:#EEEEEE;border:1px solid lightgray;'>&#9758;&nbsp;&nbsp;Awards : 1624</td></tr></table><br/>"
      ],
      "text/plain": [
       "<IPython.core.display.HTML object>"
      ]
     },
     "metadata": {},
     "output_type": "display_data"
    }
   ],
   "source": [
    "display_message([\n",
    "                    \"Authors : \" + str(len(unique_authors.keys())),\n",
    "                    \"Languages : \" + str(len(unique_languages.keys())),\n",
    "                    \"Genres : \" + str(len(unique_genres.keys())),\n",
    "                    \"Book Formats : \" + str(len(unique_book_formats.keys())),\n",
    "                    \"Publishers : \" + str(len(unique_publishers.keys())),\n",
    "                    \"Awards : \" + str(len(unique_awards.keys())),\n",
    "                ], header = \"Unique Values\")"
   ]
  },
  {
   "cell_type": "markdown",
   "id": "5d9d1083",
   "metadata": {},
   "source": [
    "<span style = \"font-family:Arial; font-size:11pt;line-height:1.5\">Add an 'id' column to the dataframe with values from 1 to number of rows in the df to uniquely identify each book. This field will be used later for merging other dataframes.</span>"
   ]
  },
  {
   "cell_type": "code",
   "execution_count": 14,
   "id": "77d08dfd",
   "metadata": {},
   "outputs": [],
   "source": [
    "books.insert(loc = 0, column = 'id', value = range(1, books.shape[0] + 1))"
   ]
  },
  {
   "cell_type": "code",
   "execution_count": 15,
   "id": "64c8a806",
   "metadata": {
    "scrolled": true
   },
   "outputs": [
    {
     "data": {
      "text/html": [
       "<div>\n",
       "<style scoped>\n",
       "    .dataframe tbody tr th:only-of-type {\n",
       "        vertical-align: middle;\n",
       "    }\n",
       "\n",
       "    .dataframe tbody tr th {\n",
       "        vertical-align: top;\n",
       "    }\n",
       "\n",
       "    .dataframe thead th {\n",
       "        text-align: right;\n",
       "    }\n",
       "</style>\n",
       "<table border=\"1\" class=\"dataframe\">\n",
       "  <thead>\n",
       "    <tr style=\"text-align: right;\">\n",
       "      <th></th>\n",
       "      <th>id</th>\n",
       "      <th>title</th>\n",
       "      <th>series</th>\n",
       "      <th>author</th>\n",
       "      <th>rating</th>\n",
       "      <th>description</th>\n",
       "      <th>language</th>\n",
       "      <th>isbn</th>\n",
       "      <th>genres</th>\n",
       "      <th>bookFormat</th>\n",
       "      <th>edition</th>\n",
       "      <th>pages</th>\n",
       "      <th>publisher</th>\n",
       "      <th>publishDate</th>\n",
       "      <th>awards</th>\n",
       "      <th>numRatings</th>\n",
       "      <th>likedPercent</th>\n",
       "      <th>coverImg</th>\n",
       "      <th>price</th>\n",
       "    </tr>\n",
       "  </thead>\n",
       "  <tbody>\n",
       "    <tr>\n",
       "      <th>36762</th>\n",
       "      <td>1</td>\n",
       "      <td>Rider</td>\n",
       "      <td>Spirals of Destiny #1</td>\n",
       "      <td>Jim Bernheimer (Goodreads Author)</td>\n",
       "      <td>3.85</td>\n",
       "      <td>Forget everything you thought you knew about u...</td>\n",
       "      <td>English</td>\n",
       "      <td>9780982508763</td>\n",
       "      <td>['Fantasy', 'Audiobook', 'Fiction', 'Unicorns'...</td>\n",
       "      <td>Paperback</td>\n",
       "      <td></td>\n",
       "      <td>250</td>\n",
       "      <td>Gryphonwood Press</td>\n",
       "      <td>June 10th 2010</td>\n",
       "      <td>[]</td>\n",
       "      <td>335</td>\n",
       "      <td>92.0</td>\n",
       "      <td>https://i.gr-assets.com/images/S/compressed.ph...</td>\n",
       "      <td>5.20</td>\n",
       "    </tr>\n",
       "    <tr>\n",
       "      <th>38589</th>\n",
       "      <td>2</td>\n",
       "      <td>Amy Falls Down</td>\n",
       "      <td>Amy Gallup #2</td>\n",
       "      <td>Jincy Willett</td>\n",
       "      <td>3.67</td>\n",
       "      <td>Amy Gallup is an aging novelist and writing in...</td>\n",
       "      <td></td>\n",
       "      <td>9781250028280</td>\n",
       "      <td>['Fiction', 'Humor', 'Contemporary', 'Adult', ...</td>\n",
       "      <td>ebook</td>\n",
       "      <td></td>\n",
       "      <td>336</td>\n",
       "      <td>Thomas Dunne Books</td>\n",
       "      <td>July 9th 2013</td>\n",
       "      <td>[]</td>\n",
       "      <td>2222</td>\n",
       "      <td>88.0</td>\n",
       "      <td>https://i.gr-assets.com/images/S/compressed.ph...</td>\n",
       "      <td>-1</td>\n",
       "    </tr>\n",
       "    <tr>\n",
       "      <th>17822</th>\n",
       "      <td>3</td>\n",
       "      <td>The Everything Enneagram Book: Identify Your T...</td>\n",
       "      <td></td>\n",
       "      <td>Susan Reynolds (Goodreads Author)</td>\n",
       "      <td>3.71</td>\n",
       "      <td>Each of us wears our personality like a disgui...</td>\n",
       "      <td>English</td>\n",
       "      <td>9781598692761</td>\n",
       "      <td>['Nonfiction', 'Psychology', 'Self Help', 'Rel...</td>\n",
       "      <td>Paperback</td>\n",
       "      <td></td>\n",
       "      <td>320</td>\n",
       "      <td>Everything</td>\n",
       "      <td>July 17th 2007</td>\n",
       "      <td>[]</td>\n",
       "      <td>124</td>\n",
       "      <td>89.0</td>\n",
       "      <td>https://i.gr-assets.com/images/S/compressed.ph...</td>\n",
       "      <td>5.40</td>\n",
       "    </tr>\n",
       "    <tr>\n",
       "      <th>17643</th>\n",
       "      <td>4</td>\n",
       "      <td>Selected Poems</td>\n",
       "      <td></td>\n",
       "      <td>Thomas Hardy, Robert Mezey (Editor)</td>\n",
       "      <td>3.97</td>\n",
       "      <td></td>\n",
       "      <td>English</td>\n",
       "      <td>9780140436990</td>\n",
       "      <td>['Poetry', 'Classics', 'British Literature', '...</td>\n",
       "      <td>Paperback</td>\n",
       "      <td>Penguin Classics</td>\n",
       "      <td>320</td>\n",
       "      <td>Penguin Books</td>\n",
       "      <td>December 1st 1998</td>\n",
       "      <td>[]</td>\n",
       "      <td>1794</td>\n",
       "      <td>94.0</td>\n",
       "      <td>https://i.gr-assets.com/images/S/compressed.ph...</td>\n",
       "      <td>3.69</td>\n",
       "    </tr>\n",
       "    <tr>\n",
       "      <th>37920</th>\n",
       "      <td>5</td>\n",
       "      <td>Horrid Henry and the Soccer Fiend</td>\n",
       "      <td>Horrid Henry #14</td>\n",
       "      <td>Francesca Simon, Tony Ross (Illustrator)</td>\n",
       "      <td>4.08</td>\n",
       "      <td>Age Level: 7 and up - Grade Level: 2 to 5Horri...</td>\n",
       "      <td>English</td>\n",
       "      <td>9781402217784</td>\n",
       "      <td>['Childrens', 'Fiction', 'Humor', 'Middle Grad...</td>\n",
       "      <td>Paperback</td>\n",
       "      <td></td>\n",
       "      <td>101</td>\n",
       "      <td>Sourcebooks Jabberwocky</td>\n",
       "      <td>July 1st 2009</td>\n",
       "      <td>[]</td>\n",
       "      <td>726</td>\n",
       "      <td>92.0</td>\n",
       "      <td>https://i.gr-assets.com/images/S/compressed.ph...</td>\n",
       "      <td>1.45</td>\n",
       "    </tr>\n",
       "  </tbody>\n",
       "</table>\n",
       "</div>"
      ],
      "text/plain": [
       "       id                                              title  \\\n",
       "36762   1                                              Rider   \n",
       "38589   2                                     Amy Falls Down   \n",
       "17822   3  The Everything Enneagram Book: Identify Your T...   \n",
       "17643   4                                     Selected Poems   \n",
       "37920   5                  Horrid Henry and the Soccer Fiend   \n",
       "\n",
       "                      series                                    author  \\\n",
       "36762  Spirals of Destiny #1         Jim Bernheimer (Goodreads Author)   \n",
       "38589          Amy Gallup #2                             Jincy Willett   \n",
       "17822                                Susan Reynolds (Goodreads Author)   \n",
       "17643                              Thomas Hardy, Robert Mezey (Editor)   \n",
       "37920       Horrid Henry #14  Francesca Simon, Tony Ross (Illustrator)   \n",
       "\n",
       "       rating                                        description language  \\\n",
       "36762    3.85  Forget everything you thought you knew about u...  English   \n",
       "38589    3.67  Amy Gallup is an aging novelist and writing in...            \n",
       "17822    3.71  Each of us wears our personality like a disgui...  English   \n",
       "17643    3.97                                                     English   \n",
       "37920    4.08  Age Level: 7 and up - Grade Level: 2 to 5Horri...  English   \n",
       "\n",
       "                isbn                                             genres  \\\n",
       "36762  9780982508763  ['Fantasy', 'Audiobook', 'Fiction', 'Unicorns'...   \n",
       "38589  9781250028280  ['Fiction', 'Humor', 'Contemporary', 'Adult', ...   \n",
       "17822  9781598692761  ['Nonfiction', 'Psychology', 'Self Help', 'Rel...   \n",
       "17643  9780140436990  ['Poetry', 'Classics', 'British Literature', '...   \n",
       "37920  9781402217784  ['Childrens', 'Fiction', 'Humor', 'Middle Grad...   \n",
       "\n",
       "      bookFormat           edition pages                publisher  \\\n",
       "36762  Paperback                     250        Gryphonwood Press   \n",
       "38589      ebook                     336       Thomas Dunne Books   \n",
       "17822  Paperback                     320               Everything   \n",
       "17643  Paperback  Penguin Classics   320            Penguin Books   \n",
       "37920  Paperback                     101  Sourcebooks Jabberwocky   \n",
       "\n",
       "             publishDate awards  numRatings  likedPercent  \\\n",
       "36762     June 10th 2010     []         335          92.0   \n",
       "38589      July 9th 2013     []        2222          88.0   \n",
       "17822     July 17th 2007     []         124          89.0   \n",
       "17643  December 1st 1998     []        1794          94.0   \n",
       "37920      July 1st 2009     []         726          92.0   \n",
       "\n",
       "                                                coverImg price  \n",
       "36762  https://i.gr-assets.com/images/S/compressed.ph...  5.20  \n",
       "38589  https://i.gr-assets.com/images/S/compressed.ph...    -1  \n",
       "17822  https://i.gr-assets.com/images/S/compressed.ph...  5.40  \n",
       "17643  https://i.gr-assets.com/images/S/compressed.ph...  3.69  \n",
       "37920  https://i.gr-assets.com/images/S/compressed.ph...  1.45  "
      ]
     },
     "execution_count": 15,
     "metadata": {},
     "output_type": "execute_result"
    }
   ],
   "source": [
    "books.head(5)"
   ]
  },
  {
   "cell_type": "markdown",
   "id": "f809b2d6",
   "metadata": {},
   "source": [
    "<span style = \"font-family:Arial; font-size:11pt;line-height:1.5\">Create Dataframes that links each book id with its corresponding \n",
    "    <ul>\n",
    "        <li>author ids (1 book Id to Many author Id)</li>\n",
    "        <li>language id (1 book id to 1 language id)</li>\n",
    "        <li>genre ids (1 book id to many genre id)</li>\n",
    "        <li>format id (1 book id to many format id)</li>\n",
    "        <li>publisher id (1 book id to 1 publisher id)</li>\n",
    "        <li>award id (1 book id to many award id)</li>\n",
    "    </ul>\n",
    "</span>"
   ]
  },
  {
   "cell_type": "code",
   "execution_count": 16,
   "id": "98633c5c",
   "metadata": {
    "scrolled": false
   },
   "outputs": [
    {
     "name": "stdout",
     "output_type": "stream",
     "text": [
      "Processed : 1000\n",
      "Processed : 2000\n",
      "Processed : 3000\n",
      "Processed : 4000\n",
      "Processed : 5000\n",
      "Processed : 6000\n",
      "Processed : 7000\n",
      "Processed : 8000\n",
      "Processed : 9000\n",
      "Processed : 10000\n",
      "--- Completed in 86.31511807441711 seconds ---\n"
     ]
    },
    {
     "data": {
      "text/html": [
       "<br/><table width = '100%' cellspacing = 0 cellpadding = 0 style = 'border:1px solid darkgray'><tr style = 'background-color:darkgreen'><th style = 'text-align:left;font-family:Arial;font-size:11pt;color:white;font-weight:bold'>Books - Other Entities Relationships</th><tr><td style = 'text-align:left;font-family:Arial;font-size:11pt;background-color:#EEEEEE;border:1px solid lightgray;'>&#9758;&nbsp;&nbsp;Authors : 12618 x 2</td></tr><tr><td style = 'text-align:left;font-family:Arial;font-size:11pt;background-color:#EEEEEE;border:1px solid lightgray;'>&#9758;&nbsp;&nbsp;Languages : 10000 x 2</td></tr><tr><td style = 'text-align:left;font-family:Arial;font-size:11pt;background-color:#EEEEEE;border:1px solid lightgray;'>&#9758;&nbsp;&nbsp;Genres : 78266 x 2</td></tr><tr><td style = 'text-align:left;font-family:Arial;font-size:11pt;background-color:#EEEEEE;border:1px solid lightgray;'>&#9758;&nbsp;&nbsp;Formats : 10002 x 2</td></tr><tr><td style = 'text-align:left;font-family:Arial;font-size:11pt;background-color:#EEEEEE;border:1px solid lightgray;'>&#9758;&nbsp;&nbsp;Publishers : 10000 x 2</td></tr><tr><td style = 'text-align:left;font-family:Arial;font-size:11pt;background-color:#EEEEEE;border:1px solid lightgray;'>&#9758;&nbsp;&nbsp;Awards : 11703 x 2</td></tr></table><br/>"
      ],
      "text/plain": [
       "<IPython.core.display.HTML object>"
      ]
     },
     "metadata": {},
     "output_type": "display_data"
    }
   ],
   "source": [
    "start_time = time.time()\n",
    "\n",
    "references = [\n",
    "    {\"field\": \"author\", \"source_df\": unique_authors, \"target_df\": pd.DataFrame(columns = [\"book_id\", \"author_id\"]), \"is_csv\": True, \"is_array\": True},\n",
    "    {\"field\": \"language\", \"source_df\": unique_languages, \"target_df\": pd.DataFrame(columns = [\"book_id\", \"lang_id\"]), \"is_csv\": False, \"is_array\": False},\n",
    "    {\"field\": \"genres\", \"source_df\": unique_genres, \"target_df\": pd.DataFrame(columns = [\"book_id\", \"genre_id\"]), \"is_csv\": True, \"is_array\": True},\n",
    "    {\"field\": \"bookFormat\", \"source_df\": unique_book_formats, \"target_df\": pd.DataFrame(columns = [\"book_id\", \"format_id\"]), \"is_csv\": True, \"is_array\": False},\n",
    "    {\"field\": \"publisher\", \"source_df\": unique_publishers, \"target_df\": pd.DataFrame(columns = [\"book_id\", \"publisher_id\"]), \"is_csv\": False, \"is_array\": False},\n",
    "    {\"field\": \"awards\", \"source_df\": unique_awards, \"target_df\": pd.DataFrame(columns = [\"book_id\", \"award_id\"]), \"is_csv\": True, \"is_array\": True}\n",
    "]\n",
    "\n",
    "\n",
    "for row_idx, row in books.iterrows():\n",
    "    for item in references:\n",
    "        item[\"target_df\"] = create_book_id_link(row[\"id\"], row[item[\"field\"]], item[\"target_df\"].columns, item[\"source_df\"], item[\"target_df\"], item[\"is_csv\"], item[\"is_array\"])\n",
    "    if row[\"id\"] % 1000 == 0: print(\"Processed :\", row[\"id\"])\n",
    "\n",
    "books_authors, books_lang, books_genres, books_formats, books_publishers, books_awards = references[0][\"target_df\"], references[1][\"target_df\"], references[2][\"target_df\"], references[3][\"target_df\"], references[4][\"target_df\"], references[5][\"target_df\"]\n",
    "\n",
    "print(\"--- Completed in %s seconds ---\" % (time.time() - start_time))\n",
    "\n",
    "display_message([\n",
    "    \"Authors : \" + str(books_authors.shape[0]) + \" x \" + str(books_authors.shape[1]),\n",
    "    \"Languages : \" + str(books_lang.shape[0])  + \" x \" +  str(books_lang.shape[1]),\n",
    "    \"Genres : \" + str(books_genres.shape[0]) + \" x \" +  str(books_genres.shape[1]),\n",
    "    \"Formats : \" + str(books_formats.shape[0])  + \" x \" +  str(books_formats.shape[1]),\n",
    "    \"Publishers : \" + str(books_publishers.shape[0])  + \" x \" +  str(books_publishers.shape[1]),\n",
    "    \"Awards : \" + str(books_awards.shape[0])  + \" x \" +  str(books_awards.shape[1]),\n",
    "], header = \"Books - Other Entities Relationships\")"
   ]
  },
  {
   "cell_type": "code",
   "execution_count": 17,
   "id": "5cbda9e5",
   "metadata": {
    "scrolled": true
   },
   "outputs": [
    {
     "data": {
      "text/html": [
       "<br/><table width = '100%' cellspacing = 0 cellpadding = 0 style = 'border:1px solid darkgray'><tr style = 'background-color:darkgreen'><th style = 'text-align:left;font-family:Arial;font-size:11pt;color:white;font-weight:bold'>Number of Unique Entities</th><tr><td style = 'text-align:left;font-family:Arial;font-size:11pt;background-color:#EEEEEE;border:1px solid lightgray;'>&#9758;&nbsp;&nbsp;Unique Authors : 8438</td></tr><tr><td style = 'text-align:left;font-family:Arial;font-size:11pt;background-color:#EEEEEE;border:1px solid lightgray;'>&#9758;&nbsp;&nbsp;Unique Languages : 28</td></tr><tr><td style = 'text-align:left;font-family:Arial;font-size:11pt;background-color:#EEEEEE;border:1px solid lightgray;'>&#9758;&nbsp;&nbsp;Unique Genres : 800</td></tr><tr><td style = 'text-align:left;font-family:Arial;font-size:11pt;background-color:#EEEEEE;border:1px solid lightgray;'>&#9758;&nbsp;&nbsp;Unique Formats : 45</td></tr><tr><td style = 'text-align:left;font-family:Arial;font-size:11pt;background-color:#EEEEEE;border:1px solid lightgray;'>&#9758;&nbsp;&nbsp;Unique Publishers : 2964</td></tr><tr><td style = 'text-align:left;font-family:Arial;font-size:11pt;background-color:#EEEEEE;border:1px solid lightgray;'>&#9758;&nbsp;&nbsp;Unique Awards : 1624</td></tr></table><br/>"
      ],
      "text/plain": [
       "<IPython.core.display.HTML object>"
      ]
     },
     "metadata": {},
     "output_type": "display_data"
    }
   ],
   "source": [
    "display_message(\n",
    "    [\n",
    "        \"Unique Authors : \" + str(len(unique_authors.keys())),\n",
    "        \"Unique Languages : \" + str(len(unique_languages.keys())),\n",
    "        \"Unique Genres : \" + str(len(unique_genres.keys())),\n",
    "        \"Unique Formats : \" + str(len(unique_book_formats.keys())),\n",
    "        \"Unique Publishers : \" + str(len(unique_publishers.keys())),\n",
    "        \"Unique Awards : \" + str(len(unique_awards.keys())),\n",
    "    ], header = \"Number of Unique Entities \"\n",
    ")"
   ]
  },
  {
   "cell_type": "markdown",
   "id": "6feb066c",
   "metadata": {},
   "source": [
    "<span style = \"font-family:Arial; font-size:11pt;line-height:1.5\">Since, the unique entities are identified and stored in a separate dataframe, the columns in the 'books' dataframe can be dropped.</span>"
   ]
  },
  {
   "cell_type": "code",
   "execution_count": 18,
   "id": "bae48e3c",
   "metadata": {},
   "outputs": [],
   "source": [
    "books.drop(columns = [\"author\", \"language\", \"genres\", \"bookFormat\", \"publisher\", \"awards\"], inplace = True)"
   ]
  },
  {
   "cell_type": "markdown",
   "id": "7ab48c8b",
   "metadata": {},
   "source": [
    "<br/>\n",
    "<span style = \"font-family:Arial; font-size:13pt;line-height:1.5;color:blue;font-weight:bold;\">Merge Ids to books Dataframe</span>\n",
    "<br/>\n",
    "<span style = \"font-family:Arial; font-size:11pt;line-height:1.5\">Parse, Sanitize and Store Unique values in each of the above-mentioned columns with redundant data</span>"
   ]
  },
  {
   "cell_type": "markdown",
   "id": "09cd875b",
   "metadata": {},
   "source": [
    "<span style = \"font-family:Arial; font-size:11pt;line-height:1.5\">Since, each book id is associated with one language and one publisher, the language id and publisher id can be merged to the same database.</span>"
   ]
  },
  {
   "cell_type": "code",
   "execution_count": 19,
   "id": "1de3a138",
   "metadata": {},
   "outputs": [],
   "source": [
    "books = pd.merge(books, books_lang, left_on='id', right_on='book_id')"
   ]
  },
  {
   "cell_type": "code",
   "execution_count": 20,
   "id": "7de514fc",
   "metadata": {},
   "outputs": [],
   "source": [
    "books.drop(columns = [\"book_id\"], inplace = True)"
   ]
  },
  {
   "cell_type": "code",
   "execution_count": 21,
   "id": "712c37e5",
   "metadata": {},
   "outputs": [],
   "source": [
    "books = pd.merge(books, books_publishers, left_on='id', right_on='book_id')"
   ]
  },
  {
   "cell_type": "code",
   "execution_count": 22,
   "id": "0371966b",
   "metadata": {},
   "outputs": [],
   "source": [
    "books.drop(columns = [\"book_id\"], inplace = True)"
   ]
  },
  {
   "cell_type": "markdown",
   "id": "2bcbdadc",
   "metadata": {},
   "source": [
    "<br/>\n",
    "<span style = \"font-family:Arial; font-size:13pt;line-height:1.5;color:blue;font-weight:bold;\">Book Id - Entities Id Mapping Dataframes</span>\n",
    "<br/>\n",
    "<span style = \"font-family:Arial; font-size:11pt;line-height:1.5\">Create Dataframes with book ids mapped to entities id. This would help copy the data to the DB tables.</span>"
   ]
  },
  {
   "cell_type": "code",
   "execution_count": 23,
   "id": "58b60aae",
   "metadata": {},
   "outputs": [],
   "source": [
    "authors_df = create_df([\"id\", \"name\"], unique_authors)\n",
    "languages_df = create_df([\"id\", \"name\"], unique_languages)\n",
    "genres_df = create_df([\"id\", \"type\"], unique_genres)\n",
    "formats_df = create_df([\"id\", \"type\"], unique_book_formats)\n",
    "publishers_df = create_df([\"id\", \"name\"], unique_publishers)\n",
    "awards_df = create_df([\"id\", \"name\"], unique_awards)"
   ]
  },
  {
   "cell_type": "code",
   "execution_count": 24,
   "id": "8dd6860f",
   "metadata": {
    "scrolled": true
   },
   "outputs": [
    {
     "name": "stdout",
     "output_type": "stream",
     "text": [
      "Books Master : (10000, 15)\n"
     ]
    },
    {
     "data": {
      "text/html": [
       "<div>\n",
       "<style scoped>\n",
       "    .dataframe tbody tr th:only-of-type {\n",
       "        vertical-align: middle;\n",
       "    }\n",
       "\n",
       "    .dataframe tbody tr th {\n",
       "        vertical-align: top;\n",
       "    }\n",
       "\n",
       "    .dataframe thead th {\n",
       "        text-align: right;\n",
       "    }\n",
       "</style>\n",
       "<table border=\"1\" class=\"dataframe\">\n",
       "  <thead>\n",
       "    <tr style=\"text-align: right;\">\n",
       "      <th></th>\n",
       "      <th>id</th>\n",
       "      <th>title</th>\n",
       "      <th>series</th>\n",
       "      <th>rating</th>\n",
       "      <th>description</th>\n",
       "      <th>isbn</th>\n",
       "      <th>edition</th>\n",
       "      <th>pages</th>\n",
       "      <th>publishDate</th>\n",
       "      <th>numRatings</th>\n",
       "      <th>likedPercent</th>\n",
       "      <th>coverImg</th>\n",
       "      <th>price</th>\n",
       "      <th>lang_id</th>\n",
       "      <th>publisher_id</th>\n",
       "    </tr>\n",
       "  </thead>\n",
       "  <tbody>\n",
       "    <tr>\n",
       "      <th>0</th>\n",
       "      <td>1</td>\n",
       "      <td>Rider</td>\n",
       "      <td>Spirals of Destiny #1</td>\n",
       "      <td>3.85</td>\n",
       "      <td>Forget everything you thought you knew about u...</td>\n",
       "      <td>9780982508763</td>\n",
       "      <td></td>\n",
       "      <td>250</td>\n",
       "      <td>June 10th 2010</td>\n",
       "      <td>335</td>\n",
       "      <td>92.0</td>\n",
       "      <td>https://i.gr-assets.com/images/S/compressed.ph...</td>\n",
       "      <td>5.20</td>\n",
       "      <td>2</td>\n",
       "      <td>1053</td>\n",
       "    </tr>\n",
       "    <tr>\n",
       "      <th>1</th>\n",
       "      <td>2</td>\n",
       "      <td>Amy Falls Down</td>\n",
       "      <td>Amy Gallup #2</td>\n",
       "      <td>3.67</td>\n",
       "      <td>Amy Gallup is an aging novelist and writing in...</td>\n",
       "      <td>9781250028280</td>\n",
       "      <td></td>\n",
       "      <td>336</td>\n",
       "      <td>July 9th 2013</td>\n",
       "      <td>2222</td>\n",
       "      <td>88.0</td>\n",
       "      <td>https://i.gr-assets.com/images/S/compressed.ph...</td>\n",
       "      <td>-1</td>\n",
       "      <td>1</td>\n",
       "      <td>372</td>\n",
       "    </tr>\n",
       "    <tr>\n",
       "      <th>2</th>\n",
       "      <td>3</td>\n",
       "      <td>The Everything Enneagram Book: Identify Your T...</td>\n",
       "      <td></td>\n",
       "      <td>3.71</td>\n",
       "      <td>Each of us wears our personality like a disgui...</td>\n",
       "      <td>9781598692761</td>\n",
       "      <td></td>\n",
       "      <td>320</td>\n",
       "      <td>July 17th 2007</td>\n",
       "      <td>124</td>\n",
       "      <td>89.0</td>\n",
       "      <td>https://i.gr-assets.com/images/S/compressed.ph...</td>\n",
       "      <td>5.40</td>\n",
       "      <td>2</td>\n",
       "      <td>2275</td>\n",
       "    </tr>\n",
       "    <tr>\n",
       "      <th>3</th>\n",
       "      <td>4</td>\n",
       "      <td>Selected Poems</td>\n",
       "      <td></td>\n",
       "      <td>3.97</td>\n",
       "      <td></td>\n",
       "      <td>9780140436990</td>\n",
       "      <td>Penguin Classics</td>\n",
       "      <td>320</td>\n",
       "      <td>December 1st 1998</td>\n",
       "      <td>1794</td>\n",
       "      <td>94.0</td>\n",
       "      <td>https://i.gr-assets.com/images/S/compressed.ph...</td>\n",
       "      <td>3.69</td>\n",
       "      <td>2</td>\n",
       "      <td>4</td>\n",
       "    </tr>\n",
       "    <tr>\n",
       "      <th>4</th>\n",
       "      <td>5</td>\n",
       "      <td>Horrid Henry and the Soccer Fiend</td>\n",
       "      <td>Horrid Henry #14</td>\n",
       "      <td>4.08</td>\n",
       "      <td>Age Level: 7 and up - Grade Level: 2 to 5Horri...</td>\n",
       "      <td>9781402217784</td>\n",
       "      <td></td>\n",
       "      <td>101</td>\n",
       "      <td>July 1st 2009</td>\n",
       "      <td>726</td>\n",
       "      <td>92.0</td>\n",
       "      <td>https://i.gr-assets.com/images/S/compressed.ph...</td>\n",
       "      <td>1.45</td>\n",
       "      <td>2</td>\n",
       "      <td>615</td>\n",
       "    </tr>\n",
       "  </tbody>\n",
       "</table>\n",
       "</div>"
      ],
      "text/plain": [
       "  id                                              title  \\\n",
       "0  1                                              Rider   \n",
       "1  2                                     Amy Falls Down   \n",
       "2  3  The Everything Enneagram Book: Identify Your T...   \n",
       "3  4                                     Selected Poems   \n",
       "4  5                  Horrid Henry and the Soccer Fiend   \n",
       "\n",
       "                  series  rating  \\\n",
       "0  Spirals of Destiny #1    3.85   \n",
       "1          Amy Gallup #2    3.67   \n",
       "2                           3.71   \n",
       "3                           3.97   \n",
       "4       Horrid Henry #14    4.08   \n",
       "\n",
       "                                         description           isbn  \\\n",
       "0  Forget everything you thought you knew about u...  9780982508763   \n",
       "1  Amy Gallup is an aging novelist and writing in...  9781250028280   \n",
       "2  Each of us wears our personality like a disgui...  9781598692761   \n",
       "3                                                     9780140436990   \n",
       "4  Age Level: 7 and up - Grade Level: 2 to 5Horri...  9781402217784   \n",
       "\n",
       "            edition pages        publishDate  numRatings  likedPercent  \\\n",
       "0                     250     June 10th 2010         335          92.0   \n",
       "1                     336      July 9th 2013        2222          88.0   \n",
       "2                     320     July 17th 2007         124          89.0   \n",
       "3  Penguin Classics   320  December 1st 1998        1794          94.0   \n",
       "4                     101      July 1st 2009         726          92.0   \n",
       "\n",
       "                                            coverImg price lang_id  \\\n",
       "0  https://i.gr-assets.com/images/S/compressed.ph...  5.20       2   \n",
       "1  https://i.gr-assets.com/images/S/compressed.ph...    -1       1   \n",
       "2  https://i.gr-assets.com/images/S/compressed.ph...  5.40       2   \n",
       "3  https://i.gr-assets.com/images/S/compressed.ph...  3.69       2   \n",
       "4  https://i.gr-assets.com/images/S/compressed.ph...  1.45       2   \n",
       "\n",
       "  publisher_id  \n",
       "0         1053  \n",
       "1          372  \n",
       "2         2275  \n",
       "3            4  \n",
       "4          615  "
      ]
     },
     "metadata": {},
     "output_type": "display_data"
    },
    {
     "name": "stdout",
     "output_type": "stream",
     "text": [
      "\n",
      "\n",
      "\n",
      "Authors Master : (8438, 2)\n"
     ]
    },
    {
     "data": {
      "text/html": [
       "<div>\n",
       "<style scoped>\n",
       "    .dataframe tbody tr th:only-of-type {\n",
       "        vertical-align: middle;\n",
       "    }\n",
       "\n",
       "    .dataframe tbody tr th {\n",
       "        vertical-align: top;\n",
       "    }\n",
       "\n",
       "    .dataframe thead th {\n",
       "        text-align: right;\n",
       "    }\n",
       "</style>\n",
       "<table border=\"1\" class=\"dataframe\">\n",
       "  <thead>\n",
       "    <tr style=\"text-align: right;\">\n",
       "      <th></th>\n",
       "      <th>id</th>\n",
       "      <th>name</th>\n",
       "    </tr>\n",
       "  </thead>\n",
       "  <tbody>\n",
       "    <tr>\n",
       "      <th>0</th>\n",
       "      <td>1</td>\n",
       "      <td></td>\n",
       "    </tr>\n",
       "    <tr>\n",
       "      <th>1</th>\n",
       "      <td>2</td>\n",
       "      <td>Stephen King</td>\n",
       "    </tr>\n",
       "    <tr>\n",
       "      <th>2</th>\n",
       "      <td>3</td>\n",
       "      <td>Lucian Bane</td>\n",
       "    </tr>\n",
       "    <tr>\n",
       "      <th>3</th>\n",
       "      <td>4</td>\n",
       "      <td>Nora Roberts</td>\n",
       "    </tr>\n",
       "    <tr>\n",
       "      <th>4</th>\n",
       "      <td>5</td>\n",
       "      <td>Agatha Christie</td>\n",
       "    </tr>\n",
       "  </tbody>\n",
       "</table>\n",
       "</div>"
      ],
      "text/plain": [
       "   id             name\n",
       "0   1                 \n",
       "1   2     Stephen King\n",
       "2   3      Lucian Bane\n",
       "3   4     Nora Roberts\n",
       "4   5  Agatha Christie"
      ]
     },
     "metadata": {},
     "output_type": "display_data"
    },
    {
     "name": "stdout",
     "output_type": "stream",
     "text": [
      "\n",
      "\n",
      "\n",
      "Language Master : (28, 2)\n"
     ]
    },
    {
     "data": {
      "text/html": [
       "<div>\n",
       "<style scoped>\n",
       "    .dataframe tbody tr th:only-of-type {\n",
       "        vertical-align: middle;\n",
       "    }\n",
       "\n",
       "    .dataframe tbody tr th {\n",
       "        vertical-align: top;\n",
       "    }\n",
       "\n",
       "    .dataframe thead th {\n",
       "        text-align: right;\n",
       "    }\n",
       "</style>\n",
       "<table border=\"1\" class=\"dataframe\">\n",
       "  <thead>\n",
       "    <tr style=\"text-align: right;\">\n",
       "      <th></th>\n",
       "      <th>id</th>\n",
       "      <th>name</th>\n",
       "    </tr>\n",
       "  </thead>\n",
       "  <tbody>\n",
       "    <tr>\n",
       "      <th>0</th>\n",
       "      <td>1</td>\n",
       "      <td></td>\n",
       "    </tr>\n",
       "    <tr>\n",
       "      <th>1</th>\n",
       "      <td>2</td>\n",
       "      <td>English</td>\n",
       "    </tr>\n",
       "    <tr>\n",
       "      <th>2</th>\n",
       "      <td>3</td>\n",
       "      <td>Indonesian</td>\n",
       "    </tr>\n",
       "    <tr>\n",
       "      <th>3</th>\n",
       "      <td>4</td>\n",
       "      <td>Dutch</td>\n",
       "    </tr>\n",
       "    <tr>\n",
       "      <th>4</th>\n",
       "      <td>5</td>\n",
       "      <td>Malay</td>\n",
       "    </tr>\n",
       "  </tbody>\n",
       "</table>\n",
       "</div>"
      ],
      "text/plain": [
       "   id        name\n",
       "0   1            \n",
       "1   2     English\n",
       "2   3  Indonesian\n",
       "3   4       Dutch\n",
       "4   5       Malay"
      ]
     },
     "metadata": {},
     "output_type": "display_data"
    },
    {
     "name": "stdout",
     "output_type": "stream",
     "text": [
      "\n",
      "\n",
      "\n",
      "Genre Master : (800, 2)\n"
     ]
    },
    {
     "data": {
      "text/html": [
       "<div>\n",
       "<style scoped>\n",
       "    .dataframe tbody tr th:only-of-type {\n",
       "        vertical-align: middle;\n",
       "    }\n",
       "\n",
       "    .dataframe tbody tr th {\n",
       "        vertical-align: top;\n",
       "    }\n",
       "\n",
       "    .dataframe thead th {\n",
       "        text-align: right;\n",
       "    }\n",
       "</style>\n",
       "<table border=\"1\" class=\"dataframe\">\n",
       "  <thead>\n",
       "    <tr style=\"text-align: right;\">\n",
       "      <th></th>\n",
       "      <th>id</th>\n",
       "      <th>type</th>\n",
       "    </tr>\n",
       "  </thead>\n",
       "  <tbody>\n",
       "    <tr>\n",
       "      <th>0</th>\n",
       "      <td>1</td>\n",
       "      <td></td>\n",
       "    </tr>\n",
       "    <tr>\n",
       "      <th>1</th>\n",
       "      <td>2</td>\n",
       "      <td>Fiction</td>\n",
       "    </tr>\n",
       "    <tr>\n",
       "      <th>2</th>\n",
       "      <td>3</td>\n",
       "      <td>Fantasy</td>\n",
       "    </tr>\n",
       "    <tr>\n",
       "      <th>3</th>\n",
       "      <td>4</td>\n",
       "      <td>Childrens</td>\n",
       "    </tr>\n",
       "    <tr>\n",
       "      <th>4</th>\n",
       "      <td>5</td>\n",
       "      <td>Nonfiction</td>\n",
       "    </tr>\n",
       "  </tbody>\n",
       "</table>\n",
       "</div>"
      ],
      "text/plain": [
       "   id        type\n",
       "0   1            \n",
       "1   2     Fiction\n",
       "2   3     Fantasy\n",
       "3   4   Childrens\n",
       "4   5  Nonfiction"
      ]
     },
     "metadata": {},
     "output_type": "display_data"
    },
    {
     "name": "stdout",
     "output_type": "stream",
     "text": [
      "\n",
      "\n",
      "\n",
      "Book Format Master : (45, 2)\n"
     ]
    },
    {
     "data": {
      "text/html": [
       "<div>\n",
       "<style scoped>\n",
       "    .dataframe tbody tr th:only-of-type {\n",
       "        vertical-align: middle;\n",
       "    }\n",
       "\n",
       "    .dataframe tbody tr th {\n",
       "        vertical-align: top;\n",
       "    }\n",
       "\n",
       "    .dataframe thead th {\n",
       "        text-align: right;\n",
       "    }\n",
       "</style>\n",
       "<table border=\"1\" class=\"dataframe\">\n",
       "  <thead>\n",
       "    <tr style=\"text-align: right;\">\n",
       "      <th></th>\n",
       "      <th>id</th>\n",
       "      <th>type</th>\n",
       "    </tr>\n",
       "  </thead>\n",
       "  <tbody>\n",
       "    <tr>\n",
       "      <th>0</th>\n",
       "      <td>1</td>\n",
       "      <td></td>\n",
       "    </tr>\n",
       "    <tr>\n",
       "      <th>1</th>\n",
       "      <td>2</td>\n",
       "      <td>Paperback</td>\n",
       "    </tr>\n",
       "    <tr>\n",
       "      <th>2</th>\n",
       "      <td>3</td>\n",
       "      <td>Hardcover</td>\n",
       "    </tr>\n",
       "    <tr>\n",
       "      <th>3</th>\n",
       "      <td>4</td>\n",
       "      <td>Kindle Edition</td>\n",
       "    </tr>\n",
       "    <tr>\n",
       "      <th>4</th>\n",
       "      <td>5</td>\n",
       "      <td>Mass Market Paperback</td>\n",
       "    </tr>\n",
       "  </tbody>\n",
       "</table>\n",
       "</div>"
      ],
      "text/plain": [
       "   id                   type\n",
       "0   1                       \n",
       "1   2              Paperback\n",
       "2   3              Hardcover\n",
       "3   4         Kindle Edition\n",
       "4   5  Mass Market Paperback"
      ]
     },
     "metadata": {},
     "output_type": "display_data"
    },
    {
     "name": "stdout",
     "output_type": "stream",
     "text": [
      "\n",
      "\n",
      "\n",
      "Publishers Master : (2964, 2)\n"
     ]
    },
    {
     "data": {
      "text/html": [
       "<div>\n",
       "<style scoped>\n",
       "    .dataframe tbody tr th:only-of-type {\n",
       "        vertical-align: middle;\n",
       "    }\n",
       "\n",
       "    .dataframe tbody tr th {\n",
       "        vertical-align: top;\n",
       "    }\n",
       "\n",
       "    .dataframe thead th {\n",
       "        text-align: right;\n",
       "    }\n",
       "</style>\n",
       "<table border=\"1\" class=\"dataframe\">\n",
       "  <thead>\n",
       "    <tr style=\"text-align: right;\">\n",
       "      <th></th>\n",
       "      <th>id</th>\n",
       "      <th>name</th>\n",
       "    </tr>\n",
       "  </thead>\n",
       "  <tbody>\n",
       "    <tr>\n",
       "      <th>0</th>\n",
       "      <td>1</td>\n",
       "      <td></td>\n",
       "    </tr>\n",
       "    <tr>\n",
       "      <th>1</th>\n",
       "      <td>2</td>\n",
       "      <td>Createspace Independent Publishing Platform</td>\n",
       "    </tr>\n",
       "    <tr>\n",
       "      <th>2</th>\n",
       "      <td>3</td>\n",
       "      <td>Vintage</td>\n",
       "    </tr>\n",
       "    <tr>\n",
       "      <th>3</th>\n",
       "      <td>4</td>\n",
       "      <td>Penguin Books</td>\n",
       "    </tr>\n",
       "    <tr>\n",
       "      <th>4</th>\n",
       "      <td>5</td>\n",
       "      <td>Grand Central Publishing</td>\n",
       "    </tr>\n",
       "  </tbody>\n",
       "</table>\n",
       "</div>"
      ],
      "text/plain": [
       "   id                                         name\n",
       "0   1                                             \n",
       "1   2  Createspace Independent Publishing Platform\n",
       "2   3                                      Vintage\n",
       "3   4                                Penguin Books\n",
       "4   5                     Grand Central Publishing"
      ]
     },
     "metadata": {},
     "output_type": "display_data"
    },
    {
     "name": "stdout",
     "output_type": "stream",
     "text": [
      "\n",
      "\n",
      "\n",
      "Awards Master : (1624, 2)\n"
     ]
    },
    {
     "data": {
      "text/html": [
       "<div>\n",
       "<style scoped>\n",
       "    .dataframe tbody tr th:only-of-type {\n",
       "        vertical-align: middle;\n",
       "    }\n",
       "\n",
       "    .dataframe tbody tr th {\n",
       "        vertical-align: top;\n",
       "    }\n",
       "\n",
       "    .dataframe thead th {\n",
       "        text-align: right;\n",
       "    }\n",
       "</style>\n",
       "<table border=\"1\" class=\"dataframe\">\n",
       "  <thead>\n",
       "    <tr style=\"text-align: right;\">\n",
       "      <th></th>\n",
       "      <th>id</th>\n",
       "      <th>name</th>\n",
       "    </tr>\n",
       "  </thead>\n",
       "  <tbody>\n",
       "    <tr>\n",
       "      <th>0</th>\n",
       "      <td>1</td>\n",
       "      <td></td>\n",
       "    </tr>\n",
       "    <tr>\n",
       "      <th>1</th>\n",
       "      <td>2</td>\n",
       "      <td>Goodreads Choice Award Nominee For Middle Grad...</td>\n",
       "    </tr>\n",
       "    <tr>\n",
       "      <th>2</th>\n",
       "      <td>3</td>\n",
       "      <td>Goodreads Choice Award Nominee For Young Adult...</td>\n",
       "    </tr>\n",
       "    <tr>\n",
       "      <th>3</th>\n",
       "      <td>4</td>\n",
       "      <td>Goodreads Choice Award Nominee For Fantasy</td>\n",
       "    </tr>\n",
       "    <tr>\n",
       "      <th>4</th>\n",
       "      <td>5</td>\n",
       "      <td>Carnegie Medal Nominee</td>\n",
       "    </tr>\n",
       "  </tbody>\n",
       "</table>\n",
       "</div>"
      ],
      "text/plain": [
       "   id                                               name\n",
       "0   1                                                   \n",
       "1   2  Goodreads Choice Award Nominee For Middle Grad...\n",
       "2   3  Goodreads Choice Award Nominee For Young Adult...\n",
       "3   4         Goodreads Choice Award Nominee For Fantasy\n",
       "4   5                             Carnegie Medal Nominee"
      ]
     },
     "metadata": {},
     "output_type": "display_data"
    },
    {
     "name": "stdout",
     "output_type": "stream",
     "text": [
      "\n",
      "\n",
      "\n",
      "Books - Authors Relationship : (12618, 2)\n"
     ]
    },
    {
     "data": {
      "text/html": [
       "<div>\n",
       "<style scoped>\n",
       "    .dataframe tbody tr th:only-of-type {\n",
       "        vertical-align: middle;\n",
       "    }\n",
       "\n",
       "    .dataframe tbody tr th {\n",
       "        vertical-align: top;\n",
       "    }\n",
       "\n",
       "    .dataframe thead th {\n",
       "        text-align: right;\n",
       "    }\n",
       "</style>\n",
       "<table border=\"1\" class=\"dataframe\">\n",
       "  <thead>\n",
       "    <tr style=\"text-align: right;\">\n",
       "      <th></th>\n",
       "      <th>book_id</th>\n",
       "      <th>author_id</th>\n",
       "    </tr>\n",
       "  </thead>\n",
       "  <tbody>\n",
       "    <tr>\n",
       "      <th>0</th>\n",
       "      <td>1</td>\n",
       "      <td>1894</td>\n",
       "    </tr>\n",
       "    <tr>\n",
       "      <th>1</th>\n",
       "      <td>2</td>\n",
       "      <td>6895</td>\n",
       "    </tr>\n",
       "    <tr>\n",
       "      <th>2</th>\n",
       "      <td>3</td>\n",
       "      <td>6115</td>\n",
       "    </tr>\n",
       "    <tr>\n",
       "      <th>3</th>\n",
       "      <td>4</td>\n",
       "      <td>6113</td>\n",
       "    </tr>\n",
       "    <tr>\n",
       "      <th>4</th>\n",
       "      <td>4</td>\n",
       "      <td>6114</td>\n",
       "    </tr>\n",
       "  </tbody>\n",
       "</table>\n",
       "</div>"
      ],
      "text/plain": [
       "  book_id author_id\n",
       "0       1      1894\n",
       "1       2      6895\n",
       "2       3      6115\n",
       "3       4      6113\n",
       "4       4      6114"
      ]
     },
     "metadata": {},
     "output_type": "display_data"
    },
    {
     "name": "stdout",
     "output_type": "stream",
     "text": [
      "\n",
      "\n",
      "\n",
      "Books - Genres Relationship : (78266, 2)\n"
     ]
    },
    {
     "data": {
      "text/html": [
       "<div>\n",
       "<style scoped>\n",
       "    .dataframe tbody tr th:only-of-type {\n",
       "        vertical-align: middle;\n",
       "    }\n",
       "\n",
       "    .dataframe tbody tr th {\n",
       "        vertical-align: top;\n",
       "    }\n",
       "\n",
       "    .dataframe thead th {\n",
       "        text-align: right;\n",
       "    }\n",
       "</style>\n",
       "<table border=\"1\" class=\"dataframe\">\n",
       "  <thead>\n",
       "    <tr style=\"text-align: right;\">\n",
       "      <th></th>\n",
       "      <th>book_id</th>\n",
       "      <th>genre_id</th>\n",
       "    </tr>\n",
       "  </thead>\n",
       "  <tbody>\n",
       "    <tr>\n",
       "      <th>0</th>\n",
       "      <td>1</td>\n",
       "      <td>3</td>\n",
       "    </tr>\n",
       "    <tr>\n",
       "      <th>1</th>\n",
       "      <td>1</td>\n",
       "      <td>40</td>\n",
       "    </tr>\n",
       "    <tr>\n",
       "      <th>2</th>\n",
       "      <td>1</td>\n",
       "      <td>2</td>\n",
       "    </tr>\n",
       "    <tr>\n",
       "      <th>3</th>\n",
       "      <td>1</td>\n",
       "      <td>421</td>\n",
       "    </tr>\n",
       "    <tr>\n",
       "      <th>4</th>\n",
       "      <td>1</td>\n",
       "      <td>46</td>\n",
       "    </tr>\n",
       "  </tbody>\n",
       "</table>\n",
       "</div>"
      ],
      "text/plain": [
       "  book_id genre_id\n",
       "0       1        3\n",
       "1       1       40\n",
       "2       1        2\n",
       "3       1      421\n",
       "4       1       46"
      ]
     },
     "metadata": {},
     "output_type": "display_data"
    },
    {
     "name": "stdout",
     "output_type": "stream",
     "text": [
      "\n",
      "\n",
      "\n",
      "Books - Formats Relationship : (10002, 2)\n"
     ]
    },
    {
     "data": {
      "text/html": [
       "<div>\n",
       "<style scoped>\n",
       "    .dataframe tbody tr th:only-of-type {\n",
       "        vertical-align: middle;\n",
       "    }\n",
       "\n",
       "    .dataframe tbody tr th {\n",
       "        vertical-align: top;\n",
       "    }\n",
       "\n",
       "    .dataframe thead th {\n",
       "        text-align: right;\n",
       "    }\n",
       "</style>\n",
       "<table border=\"1\" class=\"dataframe\">\n",
       "  <thead>\n",
       "    <tr style=\"text-align: right;\">\n",
       "      <th></th>\n",
       "      <th>book_id</th>\n",
       "      <th>format_id</th>\n",
       "    </tr>\n",
       "  </thead>\n",
       "  <tbody>\n",
       "    <tr>\n",
       "      <th>0</th>\n",
       "      <td>1</td>\n",
       "      <td>2</td>\n",
       "    </tr>\n",
       "    <tr>\n",
       "      <th>1</th>\n",
       "      <td>2</td>\n",
       "      <td>6</td>\n",
       "    </tr>\n",
       "    <tr>\n",
       "      <th>2</th>\n",
       "      <td>3</td>\n",
       "      <td>2</td>\n",
       "    </tr>\n",
       "    <tr>\n",
       "      <th>3</th>\n",
       "      <td>4</td>\n",
       "      <td>2</td>\n",
       "    </tr>\n",
       "    <tr>\n",
       "      <th>4</th>\n",
       "      <td>5</td>\n",
       "      <td>2</td>\n",
       "    </tr>\n",
       "  </tbody>\n",
       "</table>\n",
       "</div>"
      ],
      "text/plain": [
       "  book_id format_id\n",
       "0       1         2\n",
       "1       2         6\n",
       "2       3         2\n",
       "3       4         2\n",
       "4       5         2"
      ]
     },
     "metadata": {},
     "output_type": "display_data"
    },
    {
     "name": "stdout",
     "output_type": "stream",
     "text": [
      "\n",
      "\n",
      "\n",
      "Books - Awards Relationship : (11703, 2)\n"
     ]
    },
    {
     "data": {
      "text/html": [
       "<div>\n",
       "<style scoped>\n",
       "    .dataframe tbody tr th:only-of-type {\n",
       "        vertical-align: middle;\n",
       "    }\n",
       "\n",
       "    .dataframe tbody tr th {\n",
       "        vertical-align: top;\n",
       "    }\n",
       "\n",
       "    .dataframe thead th {\n",
       "        text-align: right;\n",
       "    }\n",
       "</style>\n",
       "<table border=\"1\" class=\"dataframe\">\n",
       "  <thead>\n",
       "    <tr style=\"text-align: right;\">\n",
       "      <th></th>\n",
       "      <th>book_id</th>\n",
       "      <th>award_id</th>\n",
       "    </tr>\n",
       "  </thead>\n",
       "  <tbody>\n",
       "    <tr>\n",
       "      <th>0</th>\n",
       "      <td>1</td>\n",
       "      <td>1</td>\n",
       "    </tr>\n",
       "    <tr>\n",
       "      <th>1</th>\n",
       "      <td>2</td>\n",
       "      <td>1</td>\n",
       "    </tr>\n",
       "    <tr>\n",
       "      <th>2</th>\n",
       "      <td>3</td>\n",
       "      <td>1</td>\n",
       "    </tr>\n",
       "    <tr>\n",
       "      <th>3</th>\n",
       "      <td>4</td>\n",
       "      <td>1</td>\n",
       "    </tr>\n",
       "    <tr>\n",
       "      <th>4</th>\n",
       "      <td>5</td>\n",
       "      <td>1</td>\n",
       "    </tr>\n",
       "  </tbody>\n",
       "</table>\n",
       "</div>"
      ],
      "text/plain": [
       "  book_id award_id\n",
       "0       1        1\n",
       "1       2        1\n",
       "2       3        1\n",
       "3       4        1\n",
       "4       5        1"
      ]
     },
     "metadata": {},
     "output_type": "display_data"
    },
    {
     "name": "stdout",
     "output_type": "stream",
     "text": [
      "\n",
      "\n",
      "\n"
     ]
    }
   ],
   "source": [
    "# All tables generated out of raw data\n",
    "\n",
    "all_tables = {\"Books Master\":books, \"Authors Master\":authors_df, \"Language Master\":languages_df, \n",
    "              \"Genre Master\":genres_df, \"Book Format Master\":formats_df, \n",
    "              \"Publishers Master\": publishers_df, \"Awards Master\": awards_df,\n",
    "              \"Books - Authors Relationship\":books_authors, \"Books - Genres Relationship\": books_genres,\n",
    "              \"Books - Formats Relationship\":books_formats, \"Books - Awards Relationship\": books_awards\n",
    "             }\n",
    "\n",
    "for key, value in all_tables.items(): print_table_info(key, value)"
   ]
  },
  {
   "cell_type": "markdown",
   "id": "8693313f",
   "metadata": {},
   "source": [
    "<hr style = \"color:darkgray;height:3px;\">\n",
    "<br/>"
   ]
  },
  {
   "cell_type": "markdown",
   "id": "9c5f5162",
   "metadata": {},
   "source": [
    "<span style = \"font-family:Arial; font-size:16pt; font-weight:bold;color:purple;\">Data Formatting</span>\n",
    "<ul>\n",
    "        <li>Cast data to appropriate data types</li>\n",
    "        <li>Replace inconsistent data with the correct data</li>\n",
    "</ul>"
   ]
  },
  {
   "cell_type": "markdown",
   "id": "fb254102",
   "metadata": {},
   "source": [
    "<span style = \"font-family:Arial; font-size:11pt;line-height:1.5\">Replace the data '1 page' in the column pages with 1. This column is expected to hold numeric data.</span>"
   ]
  },
  {
   "cell_type": "code",
   "execution_count": 25,
   "id": "5a7ecd28",
   "metadata": {},
   "outputs": [
    {
     "name": "stderr",
     "output_type": "stream",
     "text": [
      "/var/folders/6v/4q9b5flx2l930cf571hlj8q00000gn/T/ipykernel_69976/1021115103.py:1: SettingWithCopyWarning: \n",
      "A value is trying to be set on a copy of a slice from a DataFrame\n",
      "\n",
      "See the caveats in the documentation: https://pandas.pydata.org/pandas-docs/stable/user_guide/indexing.html#returning-a-view-versus-a-copy\n",
      "  books.pages[books.pages == \"1 page\"] = 1\n"
     ]
    }
   ],
   "source": [
    "books.pages[books.pages == \"1 page\"] = 1"
   ]
  },
  {
   "cell_type": "markdown",
   "id": "9b41ba30",
   "metadata": {},
   "source": [
    "<span style = \"font-family:Arial; font-size:11pt;line-height:1.5\">Format various formats of the date to a consistent format. When there are no date values replace with '01/01/01'</span>"
   ]
  },
  {
   "cell_type": "code",
   "execution_count": 26,
   "id": "d07695fa",
   "metadata": {},
   "outputs": [],
   "source": [
    "books[\"publishDate\"] = books[\"publishDate\"].apply(lambda x: format_date(x))"
   ]
  },
  {
   "cell_type": "markdown",
   "id": "047d2fd9",
   "metadata": {},
   "source": [
    "<span style = \"font-family:Arial; font-size:11pt;line-height:1.5\">Format price values. Some values of the format 1.2236.767.989. These are formatted to appropriate decimal values.</span>"
   ]
  },
  {
   "cell_type": "code",
   "execution_count": 27,
   "id": "0d131b3c",
   "metadata": {},
   "outputs": [],
   "source": [
    "books[\"price\"] = books[\"price\"].apply(lambda x: format_price(x))"
   ]
  },
  {
   "cell_type": "markdown",
   "id": "f12144c0",
   "metadata": {},
   "source": [
    "<span style = \"font-family:Arial; font-size:11pt;line-height:1.5\">Format all columns of the dataframe to required data types</span>"
   ]
  },
  {
   "cell_type": "code",
   "execution_count": 28,
   "id": "4650ba3a",
   "metadata": {},
   "outputs": [],
   "source": [
    "books = books.astype({\"id\":int, \"title\":str, \"series\":str, \"rating\":float, \"description\":str, \"isbn\":str,\n",
    "                        \"edition\":str, \"pages\":int, \"publishDate\":str, \"numRatings\":int, \"likedPercent\":float,\n",
    "                        \"coverImg\":str, \"price\":float, \"lang_id\":int, \"publisher_id\":int})"
   ]
  },
  {
   "cell_type": "code",
   "execution_count": 29,
   "id": "402d7477",
   "metadata": {
    "scrolled": true
   },
   "outputs": [
    {
     "data": {
      "text/html": [
       "<div>\n",
       "<style scoped>\n",
       "    .dataframe tbody tr th:only-of-type {\n",
       "        vertical-align: middle;\n",
       "    }\n",
       "\n",
       "    .dataframe tbody tr th {\n",
       "        vertical-align: top;\n",
       "    }\n",
       "\n",
       "    .dataframe thead th {\n",
       "        text-align: right;\n",
       "    }\n",
       "</style>\n",
       "<table border=\"1\" class=\"dataframe\">\n",
       "  <thead>\n",
       "    <tr style=\"text-align: right;\">\n",
       "      <th></th>\n",
       "      <th>id</th>\n",
       "      <th>title</th>\n",
       "      <th>series</th>\n",
       "      <th>rating</th>\n",
       "      <th>description</th>\n",
       "      <th>isbn</th>\n",
       "      <th>edition</th>\n",
       "      <th>pages</th>\n",
       "      <th>publishDate</th>\n",
       "      <th>numRatings</th>\n",
       "      <th>likedPercent</th>\n",
       "      <th>coverImg</th>\n",
       "      <th>price</th>\n",
       "      <th>lang_id</th>\n",
       "      <th>publisher_id</th>\n",
       "    </tr>\n",
       "  </thead>\n",
       "  <tbody>\n",
       "    <tr>\n",
       "      <th>0</th>\n",
       "      <td>1</td>\n",
       "      <td>Rider</td>\n",
       "      <td>Spirals of Destiny #1</td>\n",
       "      <td>3.85</td>\n",
       "      <td>Forget everything you thought you knew about u...</td>\n",
       "      <td>9780982508763</td>\n",
       "      <td></td>\n",
       "      <td>250</td>\n",
       "      <td>2010-06-10</td>\n",
       "      <td>335</td>\n",
       "      <td>92.0</td>\n",
       "      <td>https://i.gr-assets.com/images/S/compressed.ph...</td>\n",
       "      <td>5.20</td>\n",
       "      <td>2</td>\n",
       "      <td>1053</td>\n",
       "    </tr>\n",
       "    <tr>\n",
       "      <th>1</th>\n",
       "      <td>2</td>\n",
       "      <td>Amy Falls Down</td>\n",
       "      <td>Amy Gallup #2</td>\n",
       "      <td>3.67</td>\n",
       "      <td>Amy Gallup is an aging novelist and writing in...</td>\n",
       "      <td>9781250028280</td>\n",
       "      <td></td>\n",
       "      <td>336</td>\n",
       "      <td>2013-07-09</td>\n",
       "      <td>2222</td>\n",
       "      <td>88.0</td>\n",
       "      <td>https://i.gr-assets.com/images/S/compressed.ph...</td>\n",
       "      <td>-1.00</td>\n",
       "      <td>1</td>\n",
       "      <td>372</td>\n",
       "    </tr>\n",
       "    <tr>\n",
       "      <th>2</th>\n",
       "      <td>3</td>\n",
       "      <td>The Everything Enneagram Book: Identify Your T...</td>\n",
       "      <td></td>\n",
       "      <td>3.71</td>\n",
       "      <td>Each of us wears our personality like a disgui...</td>\n",
       "      <td>9781598692761</td>\n",
       "      <td></td>\n",
       "      <td>320</td>\n",
       "      <td>2007-07-17</td>\n",
       "      <td>124</td>\n",
       "      <td>89.0</td>\n",
       "      <td>https://i.gr-assets.com/images/S/compressed.ph...</td>\n",
       "      <td>5.40</td>\n",
       "      <td>2</td>\n",
       "      <td>2275</td>\n",
       "    </tr>\n",
       "    <tr>\n",
       "      <th>3</th>\n",
       "      <td>4</td>\n",
       "      <td>Selected Poems</td>\n",
       "      <td></td>\n",
       "      <td>3.97</td>\n",
       "      <td></td>\n",
       "      <td>9780140436990</td>\n",
       "      <td>Penguin Classics</td>\n",
       "      <td>320</td>\n",
       "      <td>1998-12-01</td>\n",
       "      <td>1794</td>\n",
       "      <td>94.0</td>\n",
       "      <td>https://i.gr-assets.com/images/S/compressed.ph...</td>\n",
       "      <td>3.69</td>\n",
       "      <td>2</td>\n",
       "      <td>4</td>\n",
       "    </tr>\n",
       "    <tr>\n",
       "      <th>4</th>\n",
       "      <td>5</td>\n",
       "      <td>Horrid Henry and the Soccer Fiend</td>\n",
       "      <td>Horrid Henry #14</td>\n",
       "      <td>4.08</td>\n",
       "      <td>Age Level: 7 and up - Grade Level: 2 to 5Horri...</td>\n",
       "      <td>9781402217784</td>\n",
       "      <td></td>\n",
       "      <td>101</td>\n",
       "      <td>2009-07-01</td>\n",
       "      <td>726</td>\n",
       "      <td>92.0</td>\n",
       "      <td>https://i.gr-assets.com/images/S/compressed.ph...</td>\n",
       "      <td>1.45</td>\n",
       "      <td>2</td>\n",
       "      <td>615</td>\n",
       "    </tr>\n",
       "  </tbody>\n",
       "</table>\n",
       "</div>"
      ],
      "text/plain": [
       "   id                                              title  \\\n",
       "0   1                                              Rider   \n",
       "1   2                                     Amy Falls Down   \n",
       "2   3  The Everything Enneagram Book: Identify Your T...   \n",
       "3   4                                     Selected Poems   \n",
       "4   5                  Horrid Henry and the Soccer Fiend   \n",
       "\n",
       "                  series  rating  \\\n",
       "0  Spirals of Destiny #1    3.85   \n",
       "1          Amy Gallup #2    3.67   \n",
       "2                           3.71   \n",
       "3                           3.97   \n",
       "4       Horrid Henry #14    4.08   \n",
       "\n",
       "                                         description           isbn  \\\n",
       "0  Forget everything you thought you knew about u...  9780982508763   \n",
       "1  Amy Gallup is an aging novelist and writing in...  9781250028280   \n",
       "2  Each of us wears our personality like a disgui...  9781598692761   \n",
       "3                                                     9780140436990   \n",
       "4  Age Level: 7 and up - Grade Level: 2 to 5Horri...  9781402217784   \n",
       "\n",
       "            edition  pages publishDate  numRatings  likedPercent  \\\n",
       "0                      250  2010-06-10         335          92.0   \n",
       "1                      336  2013-07-09        2222          88.0   \n",
       "2                      320  2007-07-17         124          89.0   \n",
       "3  Penguin Classics    320  1998-12-01        1794          94.0   \n",
       "4                      101  2009-07-01         726          92.0   \n",
       "\n",
       "                                            coverImg  price  lang_id  \\\n",
       "0  https://i.gr-assets.com/images/S/compressed.ph...   5.20        2   \n",
       "1  https://i.gr-assets.com/images/S/compressed.ph...  -1.00        1   \n",
       "2  https://i.gr-assets.com/images/S/compressed.ph...   5.40        2   \n",
       "3  https://i.gr-assets.com/images/S/compressed.ph...   3.69        2   \n",
       "4  https://i.gr-assets.com/images/S/compressed.ph...   1.45        2   \n",
       "\n",
       "   publisher_id  \n",
       "0          1053  \n",
       "1           372  \n",
       "2          2275  \n",
       "3             4  \n",
       "4           615  "
      ]
     },
     "execution_count": 29,
     "metadata": {},
     "output_type": "execute_result"
    }
   ],
   "source": [
    "books.head()"
   ]
  },
  {
   "cell_type": "markdown",
   "id": "5e37cfe9",
   "metadata": {},
   "source": [
    "<span style = \"font-family:Arial; font-size:11pt;line-height:1.5\">Create 1 copy for each book</span>"
   ]
  },
  {
   "cell_type": "code",
   "execution_count": 30,
   "id": "73eb087d",
   "metadata": {},
   "outputs": [],
   "source": [
    "ids = list(books[\"id\"])\n",
    "borrow_status_id = [1 for i in range(0, len(ids))]\n",
    "book_copy = pd.DataFrame(columns = [\"book_id\", \"borrow_status_id\"])\n",
    "book_copy[\"book_id\"], book_copy[\"borrow_status_id\"] = ids, borrow_status_id"
   ]
  },
  {
   "cell_type": "markdown",
   "id": "6d9e532c",
   "metadata": {},
   "source": [
    "<hr style = \"color:darkgray;height:3px;\">\n",
    "<br/>"
   ]
  },
  {
   "cell_type": "markdown",
   "id": "e40cd448",
   "metadata": {},
   "source": [
    "<span style = \"font-family:Arial; font-size:16pt; font-weight:bold;color:purple;\">Database Operations</span>\n",
    "<ul>\n",
    "        <li>Connect to MySQL</li>\n",
    "        <li>Create schema and tables</li>\n",
    "        <li>Insert data in to the tables created</li>\n",
    "</ul>"
   ]
  },
  {
   "cell_type": "markdown",
   "id": "0c648e1f",
   "metadata": {},
   "source": [
    "<br/>\n",
    "<span style = \"font-family:Arial; font-size:13pt;line-height:1.5;color:blue;font-weight:bold;\">SQL Commands</span>\n",
    "<br/>\n",
    "<span style = \"font-family:Arial; font-size:11pt;line-height:1.5\">Read the SQL file and split in to individual commands</span>"
   ]
  },
  {
   "cell_type": "code",
   "execution_count": 78,
   "id": "f35736de",
   "metadata": {},
   "outputs": [],
   "source": [
    "f = open(\"Create_Tables_SQLite.sql\")\n",
    "sql = \"\"\n",
    "for line in f.readlines():\n",
    "    sql += line.strip()\n",
    "\n",
    "f.close()\n",
    "\n",
    "sql = sql.split(\";\")"
   ]
  },
  {
   "cell_type": "markdown",
   "id": "a125e52d",
   "metadata": {},
   "source": [
    "<br/>\n",
    "<span style = \"font-family:Arial; font-size:13pt;line-height:1.5;color:blue;font-weight:bold;\">Create DB Objects</span>\n",
    "<br/>\n",
    "<span style = \"font-family:Arial; font-size:11pt;line-height:1.5\">Connect to MySQL and create schema and tables</span>"
   ]
  },
  {
   "cell_type": "code",
   "execution_count": 79,
   "id": "585d9d0f",
   "metadata": {},
   "outputs": [],
   "source": [
    "mydb = sqlite3.connect('lmbrs.db')\n",
    "cursor = mydb.cursor()"
   ]
  },
  {
   "cell_type": "code",
   "execution_count": 80,
   "id": "ece3f41e",
   "metadata": {
    "scrolled": true
   },
   "outputs": [
    {
     "data": {
      "text/html": [
       "<br/><table width = '100%' cellspacing = 0 cellpadding = 0 style = 'border:1px solid darkgray'><tr><td style = 'text-align:left;font-family:Courier;font-size:11pt;background-color:#EEEEEE;border:1px solid lightgray;'>&#9758;&nbsp;&nbsp;CREATE TABLE `person_status` (`id` INTEGER PRIMARY KEY AUTOINCREMENT,`status` varchar(100) NOT NULL)</td></tr><tr><td style = 'text-align:left;font-family:Courier;font-size:11pt;background-color:#EEEEEE;border:1px solid lightgray;'>&#9758;&nbsp;&nbsp;CREATE TABLE `person` (`id` INTEGER PRIMARY KEY AUTOINCREMENT UNIQUE,`f_name` varchar(50) DEFAULT NULL,`l_name` varchar(50) DEFAULT NULL,`email` varchar(200) DEFAULT NULL,`logon_id` varchar(30) NOT NULL UNIQUE,`password` varchar(50) DEFAULT NULL,`last_logged_on` datetime DEFAULT NULL,`is_admin` tinyint(1) DEFAULT '0',`status_id` int DEFAULT NULL,`created_by` int DEFAULT NULL,`created_on` datetime DEFAULT NULL,CONSTRAINT `person_person_status_id` FOREIGN KEY (`status_id`) REFERENCES `person_status` (`id`) ON UPDATE CASCADE)</td></tr><tr><td style = 'text-align:left;font-family:Courier;font-size:11pt;background-color:#EEEEEE;border:1px solid lightgray;'>&#9758;&nbsp;&nbsp;CREATE TABLE `publisher` (`id` INTEGER PRIMARY KEY AUTOINCREMENT,`name` varchar(350) NOT NULL)</td></tr><tr><td style = 'text-align:left;font-family:Courier;font-size:11pt;background-color:#EEEEEE;border:1px solid lightgray;'>&#9758;&nbsp;&nbsp;CREATE TABLE `language` (`id` INTEGER PRIMARY KEY AUTOINCREMENT,`name` varchar(100) NOT NULL)</td></tr><tr><td style = 'text-align:left;font-family:Courier;font-size:11pt;background-color:#EEEEEE;border:1px solid lightgray;'>&#9758;&nbsp;&nbsp;CREATE TABLE `genre` (`id` INTEGER PRIMARY KEY AUTOINCREMENT,`type` varchar(100) NOT NULL)</td></tr><tr><td style = 'text-align:left;font-family:Courier;font-size:11pt;background-color:#EEEEEE;border:1px solid lightgray;'>&#9758;&nbsp;&nbsp;CREATE TABLE `format` (`id` INTEGER PRIMARY KEY AUTOINCREMENT,`type` varchar(150) NOT NULL)</td></tr><tr><td style = 'text-align:left;font-family:Courier;font-size:11pt;background-color:#EEEEEE;border:1px solid lightgray;'>&#9758;&nbsp;&nbsp;CREATE TABLE `author` (`id` INTEGER PRIMARY KEY AUTOINCREMENT,`name` varchar(100) NOT NULL)</td></tr><tr><td style = 'text-align:left;font-family:Courier;font-size:11pt;background-color:#EEEEEE;border:1px solid lightgray;'>&#9758;&nbsp;&nbsp;CREATE TABLE `award` (`id` INTEGER PRIMARY KEY AUTOINCREMENT,`name` varchar(350) NOT NULL)</td></tr><tr><td style = 'text-align:left;font-family:Courier;font-size:11pt;background-color:#EEEEEE;border:1px solid lightgray;'>&#9758;&nbsp;&nbsp;CREATE TABLE `book` (`id` INTEGER PRIMARY KEY AUTOINCREMENT,`title` varchar(350) NOT NULL,`series` varchar(250) DEFAULT NULL,`rating` decimal(5,2) DEFAULT '-1.00',`description` varchar(2500) DEFAULT NULL,`isbn` varchar(30) DEFAULT NULL,`edition` varchar(150) DEFAULT NULL,`pages` int(10) DEFAULT '-1',`publishDate` date DEFAULT NULL,`numRatings` int(11) DEFAULT NULL,`likedPercent` decimal(5,2) DEFAULT NULL,`coverImg` varchar(300) DEFAULT NULL,`price` decimal(5,2) DEFAULT '-1.00',`lang_id` int DEFAULT NULL,`publisher_id` int DEFAULT NULL,CONSTRAINT `book_lang_id` FOREIGN KEY (`lang_id`) REFERENCES `language` (`id`) ON DELETE CASCADE ON UPDATE CASCADE,CONSTRAINT `book_publisher_id` FOREIGN KEY (`publisher_id`) REFERENCES `publisher` (`id`) ON DELETE CASCADE ON UPDATE CASCADE)</td></tr><tr><td style = 'text-align:left;font-family:Courier;font-size:11pt;background-color:#EEEEEE;border:1px solid lightgray;'>&#9758;&nbsp;&nbsp;CREATE TABLE `book_author` (`id` INTEGER PRIMARY KEY AUTOINCREMENT,`book_id` int NOT NULL,`author_id` int NOT NULL,CONSTRAINT `book_author_author_id` FOREIGN KEY (`author_id`) REFERENCES `author` (`id`) ON DELETE CASCADE ON UPDATE CASCADE,CONSTRAINT `book_author_book_id` FOREIGN KEY (`book_id`) REFERENCES `book` (`id`) ON DELETE CASCADE ON UPDATE CASCADE)</td></tr><tr><td style = 'text-align:left;font-family:Courier;font-size:11pt;background-color:#EEEEEE;border:1px solid lightgray;'>&#9758;&nbsp;&nbsp;CREATE TABLE `book_award` (`id` INTEGER PRIMARY KEY AUTOINCREMENT,`book_id` int NOT NULL,`award_id` int NOT NULL,CONSTRAINT `book_award_award_id` FOREIGN KEY (`award_id`) REFERENCES `award` (`id`) ON DELETE CASCADE ON UPDATE CASCADE,CONSTRAINT `book_award_book_id` FOREIGN KEY (`book_id`) REFERENCES `book` (`id`) ON DELETE CASCADE ON UPDATE CASCADE)</td></tr><tr><td style = 'text-align:left;font-family:Courier;font-size:11pt;background-color:#EEEEEE;border:1px solid lightgray;'>&#9758;&nbsp;&nbsp;CREATE TABLE `book_format` (`id` INTEGER PRIMARY KEY AUTOINCREMENT,`book_id` int NOT NULL,`format_id` int NOT NULL,CONSTRAINT `book_format_book_id` FOREIGN KEY (`book_id`) REFERENCES `book` (`id`) ON DELETE CASCADE ON UPDATE CASCADE,CONSTRAINT `book_format_format_id` FOREIGN KEY (`format_id`) REFERENCES `format` (`id`) ON DELETE CASCADE ON UPDATE CASCADE)</td></tr><tr><td style = 'text-align:left;font-family:Courier;font-size:11pt;background-color:#EEEEEE;border:1px solid lightgray;'>&#9758;&nbsp;&nbsp;CREATE TABLE `book_genre` (`id` INTEGER PRIMARY KEY AUTOINCREMENT,`book_id` int NOT NULL,`genre_id` int NOT NULL,CONSTRAINT `book_genre_book_id` FOREIGN KEY (`book_id`) REFERENCES `book` (`id`) ON DELETE CASCADE ON UPDATE CASCADE,CONSTRAINT `book_genre_genre_id` FOREIGN KEY (`genre_id`) REFERENCES `genre` (`id`) ON DELETE CASCADE ON UPDATE CASCADE)</td></tr><tr><td style = 'text-align:left;font-family:Courier;font-size:11pt;background-color:#EEEEEE;border:1px solid lightgray;'>&#9758;&nbsp;&nbsp;CREATE TABLE `borrow_status` (`id` INTEGER PRIMARY KEY AUTOINCREMENT,`status` varchar(100) NOT NULL)</td></tr><tr><td style = 'text-align:left;font-family:Courier;font-size:11pt;background-color:#EEEEEE;border:1px solid lightgray;'>&#9758;&nbsp;&nbsp;CREATE TABLE `book_copy` (`id` INTEGER PRIMARY KEY AUTOINCREMENT,`book_id` int NOT NULL,`borrow_status_id` int NOT NULL,CONSTRAINT `book_copy_book_id` FOREIGN KEY (`book_id`) REFERENCES `book` (`id`) ON DELETE CASCADE ON UPDATE CASCADE,CONSTRAINT `book_copy_borrow_status_id` FOREIGN KEY (`borrow_status_id`) REFERENCES `borrow_status` (`id`) ON DELETE CASCADE ON UPDATE CASCADE)</td></tr><tr><td style = 'text-align:left;font-family:Courier;font-size:11pt;background-color:#EEEEEE;border:1px solid lightgray;'>&#9758;&nbsp;&nbsp;CREATE TABLE `borrowal` (`id` INTEGER PRIMARY KEY AUTOINCREMENT,`book_copy_id` int NOT NULL,`person_id` int NOT NULL,`borrow_date` date NOT NULL,`return_date` date NOT NULL,CONSTRAINT `book_borrowal_book_copy_id` FOREIGN KEY (`book_copy_id`) REFERENCES `book_copy` (`id`) ON DELETE CASCADE ON UPDATE CASCADE,CONSTRAINT `book_borrowal_person_id` FOREIGN KEY (`person_id`) REFERENCES `person` (`id`) ON DELETE CASCADE ON UPDATE CASCADE)</td></tr></table><br/>"
      ],
      "text/plain": [
       "<IPython.core.display.HTML object>"
      ]
     },
     "metadata": {},
     "output_type": "display_data"
    }
   ],
   "source": [
    "for item in sql:\n",
    "    cursor.execute(item)\n",
    "mydb.commit()\n",
    "\n",
    "display_SQL_messages(sql)"
   ]
  },
  {
   "cell_type": "markdown",
   "id": "aa78f300",
   "metadata": {},
   "source": [
    "<br/>\n",
    "<span style = \"font-family:Arial; font-size:13pt;line-height:1.5;color:blue;font-weight:bold;\">Data Presets</span>\n",
    "<br/>\n",
    "<span style = \"font-family:Arial; font-size:11pt;line-height:1.5\">Insert preset data in to tables. Create persons and add random borrowals in to the borrowal table.</span>"
   ]
  },
  {
   "cell_type": "code",
   "execution_count": 81,
   "id": "49d77779",
   "metadata": {},
   "outputs": [],
   "source": [
    "f = open(\"Data_Preset_SQLite_1.sql\")\n",
    "sql = \"\"\n",
    "for line in f.readlines():\n",
    "    sql += line.strip()\n",
    "\n",
    "f.close()\n",
    "\n",
    "sql = sql.split(\";\")"
   ]
  },
  {
   "cell_type": "code",
   "execution_count": 82,
   "id": "e0485946",
   "metadata": {
    "scrolled": false
   },
   "outputs": [
    {
     "data": {
      "text/html": [
       "<br/><table width = '100%' cellspacing = 0 cellpadding = 0 style = 'border:1px solid darkgray'><tr><td style = 'text-align:left;font-family:Courier;font-size:11pt;background-color:#EEEEEE;border:1px solid lightgray;'>&#9758;&nbsp;&nbsp;INSERT INTO person_status(status) VALUES ('Active'), ('Suspended'), ('Deleted')</td></tr><tr><td style = 'text-align:left;font-family:Courier;font-size:11pt;background-color:#EEEEEE;border:1px solid lightgray;'>&#9758;&nbsp;&nbsp;INSERT INTO borrow_status(status) VALUES ('Available'), ('Borrow Blocked'), ('Borrowed'), ('Return Waiting'), ('Returned')</td></tr><tr><td style = 'text-align:left;font-family:Courier;font-size:11pt;background-color:#EEEEEE;border:1px solid lightgray;'>&#9758;&nbsp;&nbsp;INSERT INTO person(f_name, l_name, email, logon_id, password, last_logged_on, is_admin, status_id, created_by, created_on)VALUES ('Anand kumar', 'Babu', 'anbabu@iu.edu', 'anbabu', 'b''YW1vb25ndXNz''', '2023-07-08', 1, 1, 1, CURRENT_TIMESTAMP),('Carmen', 'Galgano', 'cgalgano@iu.edu', 'cgalgano', 'b''YXJhcXVhbmlk''', '2023-07-08', 0, 1, 1, CURRENT_TIMESTAMP),('Braxton Thatcher', 'Ratekin', 'btrateki@iupui.edu', 'btrateki', 'b''YmVoZWV5ZW0=''', '2023-07-08', 1, 1, 1, CURRENT_TIMESTAMP),('Rachel', 'Booker', 'rachel@unknown.com', 'booker12', 'b''YmxhY2VwaGFsb24=''', '2023-07-08', 0, 1, 1, CURRENT_TIMESTAMP),('Laura', 'Grey', 'laura@unknown.com', 'grey07', 'b''Y2VsZXN0ZWVsYQ==''', '2023-07-08', 0, 1, 1, CURRENT_TIMESTAMP),('Craig', 'Johnson', 'craig@unknown.com', 'johnson81', 'b''Y2hhcm1hbmRlcg==''', '2023-07-08', 0, 1, 1, CURRENT_TIMESTAMP),('Mary', 'Jenkins', 'mary@unknown.com', 'jenkins46', 'b''ZHJhZ2FwdWx0''', '2023-07-08', 0, 1, 1, CURRENT_TIMESTAMP),('Jamie', 'Smith', 'jamie@unknown.com', 'smith79', 'b''ZHVuc3BhcmNl''', '2023-07-08', 0, 1, 1, CURRENT_TIMESTAMP)</td></tr></table><br/>"
      ],
      "text/plain": [
       "<IPython.core.display.HTML object>"
      ]
     },
     "metadata": {},
     "output_type": "display_data"
    }
   ],
   "source": [
    "# Data Preset for the application\n",
    "for item in sql:\n",
    "    cursor.execute(item)\n",
    "mydb.commit()\n",
    "\n",
    "display_SQL_messages(sql)"
   ]
  },
  {
   "cell_type": "code",
   "execution_count": 83,
   "id": "27386dea",
   "metadata": {},
   "outputs": [],
   "source": [
    "cursor.close()"
   ]
  },
  {
   "cell_type": "markdown",
   "id": "29c46735",
   "metadata": {},
   "source": [
    "<br/>\n",
    "<span style = \"font-family:Arial; font-size:13pt;line-height:1.5;color:blue;font-weight:bold;\">Copy data to tables</span>\n",
    "<br/>\n",
    "<span style = \"font-family:Arial; font-size:11pt;line-height:1.5\">Copy data from Dataframes to appropriate tables</span>"
   ]
  },
  {
   "cell_type": "markdown",
   "id": "38c50a07",
   "metadata": {},
   "source": [
    "<span style = \"font-family:Arial; font-size:11pt;line-height:1.5\">Trim text information to fit the defined data length in the tables</span>"
   ]
  },
  {
   "cell_type": "code",
   "execution_count": 84,
   "id": "a8ac2ba5",
   "metadata": {},
   "outputs": [],
   "source": [
    "df_names = {\"books\": books, \"authors_df\": authors_df, \"languages_df\": languages_df, \"genres_df\": genres_df, \"formats_df\": formats_df, \n",
    "            \"publishers_df\": publishers_df, \"awards_df\": awards_df}\n",
    "\n",
    "column_size = {\n",
    "                \"books\": {\"title\":350, \"series\":250, \"description\":2500, \"isbn\":30, \"edition\":150},\n",
    "                \"authors_df\": {\"name\": 100}, \"languages_df\": {\"name\": 100}, \"genres_df\": {\"type\": 100},\n",
    "                \"formats_df\": {\"type\": 150}, \"publishers_df\": {\"name\": 350}, \"awards_df\": {\"name\": 350}\n",
    "            }\n",
    "\n",
    "for name, size in column_size.items():\n",
    "    for column, length in size.items():\n",
    "        df_names[name][column] = df_names[name][column].apply(lambda x: truncate_text(x, length))"
   ]
  },
  {
   "cell_type": "markdown",
   "id": "e6856c62",
   "metadata": {},
   "source": [
    "<br/>\n",
    "<span style = \"font-family:Arial; font-size:13pt;line-height:1.5;color:blue;font-weight:bold;\">Insert data</span>\n",
    "<br/>\n",
    "<span style = \"font-family:Arial; font-size:11pt;line-height:1.5\">Insert data from dataframes to corresponding tables</span>"
   ]
  },
  {
   "cell_type": "code",
   "execution_count": 85,
   "id": "224b755c",
   "metadata": {},
   "outputs": [],
   "source": [
    "mydb = sqlite3.connect('lmbrs.db')\n",
    "cursor = mydb.cursor()"
   ]
  },
  {
   "cell_type": "code",
   "execution_count": 86,
   "id": "795d1a9b",
   "metadata": {
    "scrolled": true
   },
   "outputs": [
    {
     "data": {
      "text/html": [
       "<br/><table width = '100%' cellspacing = 0 cellpadding = 0 style = 'border:1px solid darkgray'><tr style = 'background-color:darkgreen'><th style = 'text-align:left;font-family:Arial;font-size:11pt;color:white;font-weight:bold'>Copied rows to tables</th><tr><td style = 'text-align:left;font-family:Arial;font-size:11pt;background-color:#EEEEEE;border:1px solid lightgray;'>&#9758;&nbsp;&nbsp;Copied 8438 rows to table 'author'</td></tr><tr><td style = 'text-align:left;font-family:Arial;font-size:11pt;background-color:#EEEEEE;border:1px solid lightgray;'>&#9758;&nbsp;&nbsp;Copied 28 rows to table 'language'</td></tr><tr><td style = 'text-align:left;font-family:Arial;font-size:11pt;background-color:#EEEEEE;border:1px solid lightgray;'>&#9758;&nbsp;&nbsp;Copied 800 rows to table 'genre'</td></tr><tr><td style = 'text-align:left;font-family:Arial;font-size:11pt;background-color:#EEEEEE;border:1px solid lightgray;'>&#9758;&nbsp;&nbsp;Copied 45 rows to table 'format'</td></tr><tr><td style = 'text-align:left;font-family:Arial;font-size:11pt;background-color:#EEEEEE;border:1px solid lightgray;'>&#9758;&nbsp;&nbsp;Copied 2964 rows to table 'publisher'</td></tr><tr><td style = 'text-align:left;font-family:Arial;font-size:11pt;background-color:#EEEEEE;border:1px solid lightgray;'>&#9758;&nbsp;&nbsp;Copied 1624 rows to table 'award'</td></tr><tr><td style = 'text-align:left;font-family:Arial;font-size:11pt;background-color:#EEEEEE;border:1px solid lightgray;'>&#9758;&nbsp;&nbsp;Copied 10000 rows to table 'book'</td></tr><tr><td style = 'text-align:left;font-family:Arial;font-size:11pt;background-color:#EEEEEE;border:1px solid lightgray;'>&#9758;&nbsp;&nbsp;Copied 12618 rows to table 'book_author'</td></tr><tr><td style = 'text-align:left;font-family:Arial;font-size:11pt;background-color:#EEEEEE;border:1px solid lightgray;'>&#9758;&nbsp;&nbsp;Copied 10002 rows to table 'book_format'</td></tr><tr><td style = 'text-align:left;font-family:Arial;font-size:11pt;background-color:#EEEEEE;border:1px solid lightgray;'>&#9758;&nbsp;&nbsp;Copied 78266 rows to table 'book_genre'</td></tr><tr><td style = 'text-align:left;font-family:Arial;font-size:11pt;background-color:#EEEEEE;border:1px solid lightgray;'>&#9758;&nbsp;&nbsp;Copied 11703 rows to table 'book_award'</td></tr><tr><td style = 'text-align:left;font-family:Arial;font-size:11pt;background-color:#EEEEEE;border:1px solid lightgray;'>&#9758;&nbsp;&nbsp;Copied 10000 rows to table 'book_copy'</td></tr></table><br/>"
      ],
      "text/plain": [
       "<IPython.core.display.HTML object>"
      ]
     },
     "metadata": {},
     "output_type": "display_data"
    }
   ],
   "source": [
    "table_info = {\n",
    "        \"author\": {\"fields\": [\"name\"], \"df\": authors_df},\n",
    "        \"language\": {\"fields\": [\"name\"], \"df\": languages_df},\n",
    "        \"genre\": {\"fields\": [\"type\"], \"df\": genres_df},\n",
    "        \"format\": {\"fields\": [\"type\"], \"df\": formats_df},\n",
    "        \"publisher\": {\"fields\": [\"name\"], \"df\": publishers_df},\n",
    "        \"award\": {\"fields\": [\"name\"], \"df\": awards_df},\n",
    "        \"book\": {\"fields\": None, \"df\": books},\n",
    "        \"book_author\": {\"fields\": [\"book_id\", \"author_id\"], \"df\": books_authors},\n",
    "        \"book_format\": {\"fields\": [\"book_id\", \"format_id\"], \"df\": books_formats},\n",
    "        \"book_genre\": {\"fields\": [\"book_id\", \"genre_id\"], \"df\": books_genres},\n",
    "        \"book_award\": {\"fields\": [\"book_id\", \"award_id\"], \"df\": books_awards},\n",
    "        \"book_copy\": {\"fields\": [\"book_id\", \"borrow_status_id\"], \"df\": book_copy}\n",
    "}\n",
    "\n",
    "messages = []\n",
    "for table_name, df_data in table_info.items():\n",
    "    copy_df_to_table_sqlite(df_data[\"df\"], df_data[\"fields\"], table_name)\n",
    "    messages.append(\"Copied \" + str(df_data[\"df\"].shape[0]) + \" rows to table '\" + table_name + \"'\")\n",
    "\n",
    "display_message(messages, header = \"Copied rows to tables\")"
   ]
  },
  {
   "cell_type": "code",
   "execution_count": 87,
   "id": "14ec404d",
   "metadata": {},
   "outputs": [],
   "source": [
    "mydb.commit()\n",
    "cursor.close()"
   ]
  },
  {
   "cell_type": "code",
   "execution_count": 88,
   "id": "6a74b0d7",
   "metadata": {},
   "outputs": [],
   "source": [
    "mydb = sqlite3.connect('lmbrs.db')\n",
    "cursor = mydb.cursor()"
   ]
  },
  {
   "cell_type": "code",
   "execution_count": 89,
   "id": "d12593ae",
   "metadata": {},
   "outputs": [],
   "source": [
    "f = open(\"Data_Preset_SQLite_2.sql\")\n",
    "sql = \"\"\n",
    "for line in f.readlines():\n",
    "    sql += line.strip()\n",
    "\n",
    "f.close()\n",
    "\n",
    "sql = sql.split(\";\")"
   ]
  },
  {
   "cell_type": "code",
   "execution_count": 90,
   "id": "dd3bd989",
   "metadata": {
    "scrolled": false
   },
   "outputs": [
    {
     "data": {
      "text/html": [
       "<br/><table width = '100%' cellspacing = 0 cellpadding = 0 style = 'border:1px solid darkgray'><tr><td style = 'text-align:left;font-family:Courier;font-size:11pt;background-color:#EEEEEE;border:1px solid lightgray;'>&#9758;&nbsp;&nbsp;INSERT INTO borrowal (book_copy_id, person_id, borrow_date, return_date) SELECT id, 2, DATE('2023-07-08'), DATE('2023-07-08', '+32 days') from book_copy where id not in (Select book_copy_id from borrowal) order by RANDOM() LIMIT 50</td></tr><tr><td style = 'text-align:left;font-family:Courier;font-size:11pt;background-color:#EEEEEE;border:1px solid lightgray;'>&#9758;&nbsp;&nbsp;INSERT INTO borrowal (book_copy_id, person_id, borrow_date, return_date) SELECT id, 4, DATE('2023-07-20'), DATE('2023-07-20', '+32 days') from book_copy where id not in (Select book_copy_id from borrowal) order by RANDOM() LIMIT 50</td></tr><tr><td style = 'text-align:left;font-family:Courier;font-size:11pt;background-color:#EEEEEE;border:1px solid lightgray;'>&#9758;&nbsp;&nbsp;INSERT INTO borrowal (book_copy_id, person_id, borrow_date, return_date) SELECT id, 5, DATE('2023-07-22'), DATE('2023-07-22', '+32 days') from book_copy where id not in (Select book_copy_id from borrowal) order by RANDOM() LIMIT 50</td></tr><tr><td style = 'text-align:left;font-family:Courier;font-size:11pt;background-color:#EEEEEE;border:1px solid lightgray;'>&#9758;&nbsp;&nbsp;INSERT INTO borrowal (book_copy_id, person_id, borrow_date, return_date) SELECT id, 6, DATE('2023-07-24'), DATE('2023-07-24', '+32 days') from book_copy where id not in (Select book_copy_id from borrowal) order by RANDOM() LIMIT 50</td></tr><tr><td style = 'text-align:left;font-family:Courier;font-size:11pt;background-color:#EEEEEE;border:1px solid lightgray;'>&#9758;&nbsp;&nbsp;INSERT INTO borrowal (book_copy_id, person_id, borrow_date, return_date) SELECT id, 7, DATE('2023-07-26'), DATE('2023-07-26', '+32 days') from book_copy where id not in (Select book_copy_id from borrowal) order by RANDOM() LIMIT 50</td></tr><tr><td style = 'text-align:left;font-family:Courier;font-size:11pt;background-color:#EEEEEE;border:1px solid lightgray;'>&#9758;&nbsp;&nbsp;INSERT INTO borrowal (book_copy_id, person_id, borrow_date, return_date) SELECT id, 8, DATE('2023-07-28'), DATE('2023-07-28', '+32 days') from book_copy where id not in (Select book_copy_id from borrowal) order by RANDOM() LIMIT 50</td></tr><tr><td style = 'text-align:left;font-family:Courier;font-size:11pt;background-color:#EEEEEE;border:1px solid lightgray;'>&#9758;&nbsp;&nbsp;UPDATE book_copy SET borrow_status_id = 2 WHERE id IN (SELECT book_copy_id FROM borrowal)</td></tr></table><br/>"
      ],
      "text/plain": [
       "<IPython.core.display.HTML object>"
      ]
     },
     "metadata": {},
     "output_type": "display_data"
    }
   ],
   "source": [
    "# Insert Sample borrowal data\n",
    "for item in sql:\n",
    "    cursor.execute(item)\n",
    "mydb.commit()\n",
    "\n",
    "display_SQL_messages(sql)"
   ]
  },
  {
   "cell_type": "code",
   "execution_count": 91,
   "id": "2b10142f",
   "metadata": {},
   "outputs": [],
   "source": [
    "cursor.close()"
   ]
  },
  {
   "cell_type": "code",
   "execution_count": 92,
   "id": "3c7b6ffc",
   "metadata": {
    "scrolled": true
   },
   "outputs": [
    {
     "data": {
      "text/html": [
       "<br/><table width = '100%' cellspacing = 0 cellpadding = 0 style = 'border:1px solid darkgray'><tr style = 'background-color:darkgreen'><th style = 'text-align:left;font-family:Arial;font-size:11pt;color:white;font-weight:bold'>Data Operations</th><tr><td style = 'text-align:left;font-family:Arial;font-size:11pt;background-color:#EEEEEE;border:1px solid lightgray;'>&#9758;&nbsp;&nbsp;LMBRS Schema created</td></tr><tr><td style = 'text-align:left;font-family:Arial;font-size:11pt;background-color:#EEEEEE;border:1px solid lightgray;'>&#9758;&nbsp;&nbsp;All required tables were created</td></tr><tr><td style = 'text-align:left;font-family:Arial;font-size:11pt;background-color:#EEEEEE;border:1px solid lightgray;'>&#9758;&nbsp;&nbsp;Preset data required for the application was inserted</td></tr><tr><td style = 'text-align:left;font-family:Arial;font-size:11pt;background-color:#EEEEEE;border:1px solid lightgray;'>&#9758;&nbsp;&nbsp;Data extracted from the books.csv downloaded from Kaggle was normalized and inserted in to appropriate tables</td></tr></table><br/>"
      ],
      "text/plain": [
       "<IPython.core.display.HTML object>"
      ]
     },
     "metadata": {},
     "output_type": "display_data"
    }
   ],
   "source": [
    "display_message([\n",
    "    \"LMBRS Schema created\",\n",
    "    \"All required tables were created\",\n",
    "    \"Preset data required for the application was inserted\",\n",
    "    \"Data extracted from the books.csv downloaded from Kaggle was normalized and inserted in to appropriate tables\"\n",
    "], header = \"Data Operations\")"
   ]
  },
  {
   "cell_type": "markdown",
   "id": "69fa74b2",
   "metadata": {},
   "source": [
    "<hr style = \"color:darkgray;height:3px;\">\n",
    "<br/>"
   ]
  },
  {
   "cell_type": "code",
   "execution_count": 93,
   "id": "b263bdd2",
   "metadata": {},
   "outputs": [
    {
     "data": {
      "text/html": [
       "<div>\n",
       "<style scoped>\n",
       "    .dataframe tbody tr th:only-of-type {\n",
       "        vertical-align: middle;\n",
       "    }\n",
       "\n",
       "    .dataframe tbody tr th {\n",
       "        vertical-align: top;\n",
       "    }\n",
       "\n",
       "    .dataframe thead th {\n",
       "        text-align: right;\n",
       "    }\n",
       "</style>\n",
       "<table border=\"1\" class=\"dataframe\">\n",
       "  <thead>\n",
       "    <tr style=\"text-align: right;\">\n",
       "      <th></th>\n",
       "      <th>Logon Id</th>\n",
       "      <th>Password</th>\n",
       "      <th>Encoded Pwd</th>\n",
       "    </tr>\n",
       "  </thead>\n",
       "  <tbody>\n",
       "    <tr>\n",
       "      <th>0</th>\n",
       "      <td>anbabu</td>\n",
       "      <td>amoonguss</td>\n",
       "      <td>b''YW1vb25ndXNz''</td>\n",
       "    </tr>\n",
       "    <tr>\n",
       "      <th>1</th>\n",
       "      <td>cgalgano</td>\n",
       "      <td>araquanid</td>\n",
       "      <td>b''YXJhcXVhbmlk''</td>\n",
       "    </tr>\n",
       "    <tr>\n",
       "      <th>2</th>\n",
       "      <td>btrateki</td>\n",
       "      <td>beheeyem</td>\n",
       "      <td>b''YmVoZWV5ZW0=''</td>\n",
       "    </tr>\n",
       "    <tr>\n",
       "      <th>3</th>\n",
       "      <td>booker12</td>\n",
       "      <td>blacephalon</td>\n",
       "      <td>b''YmxhY2VwaGFsb24=''</td>\n",
       "    </tr>\n",
       "    <tr>\n",
       "      <th>4</th>\n",
       "      <td>grey07</td>\n",
       "      <td>celesteela</td>\n",
       "      <td>b''Y2VsZXN0ZWVsYQ==''</td>\n",
       "    </tr>\n",
       "    <tr>\n",
       "      <th>5</th>\n",
       "      <td>johnson81</td>\n",
       "      <td>charmander</td>\n",
       "      <td>b''Y2hhcm1hbmRlcg==''</td>\n",
       "    </tr>\n",
       "    <tr>\n",
       "      <th>6</th>\n",
       "      <td>jenkins46</td>\n",
       "      <td>dragapult</td>\n",
       "      <td>b''ZHJhZ2FwdWx0''</td>\n",
       "    </tr>\n",
       "    <tr>\n",
       "      <th>7</th>\n",
       "      <td>smith79</td>\n",
       "      <td>dunsparce</td>\n",
       "      <td>b''ZHVuc3BhcmNl''</td>\n",
       "    </tr>\n",
       "  </tbody>\n",
       "</table>\n",
       "</div>"
      ],
      "text/plain": [
       "    Logon Id     Password            Encoded Pwd\n",
       "0     anbabu    amoonguss      b''YW1vb25ndXNz''\n",
       "1   cgalgano    araquanid      b''YXJhcXVhbmlk''\n",
       "2   btrateki     beheeyem      b''YmVoZWV5ZW0=''\n",
       "3   booker12  blacephalon  b''YmxhY2VwaGFsb24=''\n",
       "4     grey07   celesteela  b''Y2VsZXN0ZWVsYQ==''\n",
       "5  johnson81   charmander  b''Y2hhcm1hbmRlcg==''\n",
       "6  jenkins46    dragapult      b''ZHJhZ2FwdWx0''\n",
       "7    smith79    dunsparce      b''ZHVuc3BhcmNl''"
      ]
     },
     "execution_count": 93,
     "metadata": {},
     "output_type": "execute_result"
    }
   ],
   "source": [
    "import base64\n",
    "data = [\n",
    "    {\"Logon Id\": \"anbabu\", \"Password\": \"amoonguss\", \"Encoded Pwd\": str(base64.b64encode(\"amoonguss\".encode(\"utf-8\"))).replace(\"'\", \"''\")},\n",
    "    {\"Logon Id\": \"cgalgano\", \"Password\": \"araquanid\", \"Encoded Pwd\": str(base64.b64encode(\"araquanid\".encode(\"utf-8\"))).replace(\"'\", \"''\")},\n",
    "    {\"Logon Id\": \"btrateki\", \"Password\": \"beheeyem\", \"Encoded Pwd\": str(base64.b64encode(\"beheeyem\".encode(\"utf-8\"))).replace(\"'\", \"''\")},\n",
    "    {\"Logon Id\": \"booker12\", \"Password\": \"blacephalon\", \"Encoded Pwd\": str(base64.b64encode(\"blacephalon\".encode(\"utf-8\"))).replace(\"'\", \"''\")},\n",
    "    {\"Logon Id\": \"grey07\", \"Password\": \"celesteela\", \"Encoded Pwd\": str(base64.b64encode(\"celesteela\".encode(\"utf-8\"))).replace(\"'\", \"''\")},\n",
    "    {\"Logon Id\": \"johnson81\", \"Password\": \"charmander\", \"Encoded Pwd\": str(base64.b64encode(\"charmander\".encode(\"utf-8\"))).replace(\"'\", \"''\")},\n",
    "    {\"Logon Id\": \"jenkins46\", \"Password\": \"dragapult\", \"Encoded Pwd\": str(base64.b64encode(\"dragapult\".encode(\"utf-8\"))).replace(\"'\", \"''\")},\n",
    "    {\"Logon Id\": \"smith79\", \"Password\": \"dunsparce\", \"Encoded Pwd\": str(base64.b64encode(\"dunsparce\".encode(\"utf-8\"))).replace(\"'\", \"''\")}\n",
    "]\n",
    "\n",
    "user_df = pd.DataFrame(data)\n",
    "user_df"
   ]
  },
  {
   "cell_type": "code",
   "execution_count": null,
   "id": "bdb14e5a",
   "metadata": {},
   "outputs": [],
   "source": []
  }
 ],
 "metadata": {
  "kernelspec": {
   "display_name": "Python 3 (ipykernel)",
   "language": "python",
   "name": "python3"
  },
  "language_info": {
   "codemirror_mode": {
    "name": "ipython",
    "version": 3
   },
   "file_extension": ".py",
   "mimetype": "text/x-python",
   "name": "python",
   "nbconvert_exporter": "python",
   "pygments_lexer": "ipython3",
   "version": "3.9.7"
  }
 },
 "nbformat": 4,
 "nbformat_minor": 5
}
